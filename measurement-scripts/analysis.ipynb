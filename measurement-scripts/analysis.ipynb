{
 "cells": [
  {
   "cell_type": "markdown",
   "metadata": {},
   "source": [
    "# Imports"
   ]
  },
  {
   "cell_type": "code",
   "execution_count": 1,
   "metadata": {},
   "outputs": [
    {
     "name": "stdout",
     "output_type": "stream",
     "text": [
      "INFO: Pandarallel will run on 32 workers.\n",
      "INFO: Pandarallel will use Memory file system to transfer data between the main process and workers.\n"
     ]
    }
   ],
   "source": [
    "import pandas as pd\n",
    "from tqdm.auto import tqdm\n",
    "import matplotlib.pyplot as plt\n",
    "import matplotlib as mpl\n",
    "import scienceplots\n",
    "import tldextract\n",
    "tqdm.pandas()\n",
    "from pandarallel import pandarallel\n",
    "import json\n",
    "from utils import *\n",
    "\n",
    "pandarallel.initialize(progress_bar=True, nb_workers=32)\n",
    "\n",
    "# plt.style.use(\"science\")\n",
    "plt.style.use([\"science\", \"ieee\", \"std-colors\"])\n",
    "mpl.use(\"pgf\")\n",
    "\n",
    "params = {\n",
    "    \"font.family\": \"serif\",\n",
    "    \"text.usetex\": True,\n",
    "    \"pgf.rcfonts\": False,\n",
    "    \"pgf.texsystem\": \"xelatex\",\n",
    "    \"pgf.preamble\": \"\\n\".join(\n",
    "        [\n",
    "            r\"\\usepackage{fontspec, xeCJK}\",\n",
    "            r\"\\setmainfont{Times New Roman}\",\n",
    "            # r\"\\setCJKmainfont{SimSong}\",\n",
    "            # r\"\\setCJKsansfont{Hei}\",\n",
    "        ]\n",
    "    ),\n",
    "}\n",
    "mpl.rcParams.update(params)\n",
    "plt.rcParams.update({\"figure.dpi\": \"100\"})"
   ]
  },
  {
   "cell_type": "markdown",
   "metadata": {},
   "source": [
    "# Load Data"
   ]
  },
  {
   "cell_type": "code",
   "execution_count": 2,
   "metadata": {},
   "outputs": [
    {
     "name": "stderr",
     "output_type": "stream",
     "text": [
      "/opt/miniconda3/envs/wiretapping/lib/python3.12/site-packages/google/cloud/bigquery/__init__.py:237: FutureWarning: %load_ext google.cloud.bigquery is deprecated. Install bigquery-magics package and use `%load_ext bigquery_magics`, instead.\n",
      "  warnings.warn(\n"
     ]
    }
   ],
   "source": [
    "%load_ext google.cloud.bigquery"
   ]
  },
  {
   "cell_type": "code",
   "execution_count": 3,
   "metadata": {},
   "outputs": [],
   "source": [
    "import os\n",
    "\n",
    "os.environ[\"GOOGLE_APPLICATION_CREDENTIALS\"] = \"javascript-wiretapping-38b1da3ce1a3.json\""
   ]
  },
  {
   "cell_type": "code",
   "execution_count": 4,
   "metadata": {},
   "outputs": [
    {
     "data": {
      "application/vnd.jupyter.widget-view+json": {
       "model_id": "47657eaa54b24c22b1966353381d87de",
       "version_major": 2,
       "version_minor": 0
      },
      "text/plain": [
       "Query is running:   0%|          |"
      ]
     },
     "metadata": {},
     "output_type": "display_data"
    },
    {
     "data": {
      "application/vnd.jupyter.widget-view+json": {
       "model_id": "8c1120c8d9a24984ba8aceb463565298",
       "version_major": 2,
       "version_minor": 0
      },
      "text/plain": [
       "Downloading:   0%|          |"
      ]
     },
     "metadata": {},
     "output_type": "display_data"
    }
   ],
   "source": [
    "%%bigquery df_event_listeners --project=javascript-wiretapping\n",
    "SELECT\n",
    "    site, event_type, event, event_time, init_invoke, stack\n",
    "FROM \n",
    "measurement_imc_final.event_listeners"
   ]
  },
  {
   "cell_type": "code",
   "execution_count": 5,
   "metadata": {},
   "outputs": [
    {
     "data": {
      "application/vnd.jupyter.widget-view+json": {
       "model_id": "fe1bc2bf68fb444597d6958449e292e6",
       "version_major": 2,
       "version_minor": 0
      },
      "text/plain": [
       "Query is running:   0%|          |"
      ]
     },
     "metadata": {},
     "output_type": "display_data"
    },
    {
     "data": {
      "application/vnd.jupyter.widget-view+json": {
       "model_id": "cc75c615b8b34314ba7768be60fc485d",
       "version_major": 2,
       "version_minor": 0
      },
      "text/plain": [
       "Downloading:   0%|          |"
      ]
     },
     "metadata": {},
     "output_type": "display_data"
    }
   ],
   "source": [
    "%%bigquery df_interactions --project=javascript-wiretapping\n",
    "SELECT *\n",
    "FROM \n",
    "measurement_imc_final.interactions"
   ]
  },
  {
   "cell_type": "code",
   "execution_count": 6,
   "metadata": {},
   "outputs": [
    {
     "data": {
      "application/vnd.jupyter.widget-view+json": {
       "model_id": "3553db94b2ec408aa87b11c6915c28ae",
       "version_major": 2,
       "version_minor": 0
      },
      "text/plain": [
       "Query is running:   0%|          |"
      ]
     },
     "metadata": {},
     "output_type": "display_data"
    },
    {
     "data": {
      "application/vnd.jupyter.widget-view+json": {
       "model_id": "a54bf495447a4ea0b5e57ae0d87b8309",
       "version_major": 2,
       "version_minor": 0
      },
      "text/plain": [
       "Downloading:   0%|          |"
      ]
     },
     "metadata": {},
     "output_type": "display_data"
    }
   ],
   "source": [
    "%%bigquery df_callstacks --project=javascript-wiretapping\n",
    "SELECT site, init_invoke, event_type, stack, timestamp, request_url\n",
    "FROM \n",
    "measurement_imc_final.callstacks\n",
    "WHERE\n",
    "event_type like \"%onkey%\""
   ]
  },
  {
   "cell_type": "code",
   "execution_count": 7,
   "metadata": {},
   "outputs": [
    {
     "data": {
      "application/vnd.jupyter.widget-view+json": {
       "model_id": "e0cca7de9f8c4913bf593e99ea1cd284",
       "version_major": 2,
       "version_minor": 0
      },
      "text/plain": [
       "Query is running:   0%|          |"
      ]
     },
     "metadata": {},
     "output_type": "display_data"
    },
    {
     "data": {
      "application/vnd.jupyter.widget-view+json": {
       "model_id": "67a36596d9cc47ccb16991dada62e648",
       "version_major": 2,
       "version_minor": 0
      },
      "text/plain": [
       "Downloading:   0%|          |"
      ]
     },
     "metadata": {},
     "output_type": "display_data"
    }
   ],
   "source": [
    "%%bigquery df_requests --project=javascript-wiretapping\n",
    "SELECT site, url, method, request_time, after_interaction, data_leak, time, data_leak_type, request_call_stack\n",
    "FROM \n",
    "measurement_imc_final.requests"
   ]
  },
  {
   "cell_type": "code",
   "execution_count": 8,
   "metadata": {},
   "outputs": [
    {
     "name": "stdout",
     "output_type": "stream",
     "text": [
      "Executing query with job ID: c67367f7-7aea-4b30-a33e-49b55b31830e\n",
      "Query executing: 0.61s"
     ]
    },
    {
     "name": "stderr",
     "output_type": "stream",
     "text": [
      "\n",
      "ERROR:\n",
      " 404 Not found: Table javascript-wiretapping:measurement_imc_final.site_cats was not found in location US; reason: notFound, message: Not found: Table javascript-wiretapping:measurement_imc_final.site_cats was not found in location US\n",
      "\n",
      "Location: US\n",
      "Job ID: c67367f7-7aea-4b30-a33e-49b55b31830e\n",
      "\n"
     ]
    }
   ],
   "source": [
    "%%bigquery df_sitecats --project=javascript-wiretapping\n",
    "SELECT * FROM javascript-wiretapping.measurement_imc_final.site_cats"
   ]
  },
  {
   "cell_type": "markdown",
   "metadata": {},
   "source": [
    "# Process Data"
   ]
  },
  {
   "cell_type": "code",
   "execution_count": 9,
   "metadata": {},
   "outputs": [
    {
     "data": {
      "application/vnd.jupyter.widget-view+json": {
       "model_id": "16b832586583444d9751e66d3fbd273f",
       "version_major": 2,
       "version_minor": 0
      },
      "text/plain": [
       "VBox(children=(HBox(children=(IntProgress(value=0, description='0.00%', max=6266793), Label(value='0 / 6266793…"
      ]
     },
     "metadata": {},
     "output_type": "display_data"
    }
   ],
   "source": [
    "df_event_listeners[\"url\"] = df_event_listeners[\"stack\"].parallel_apply(\n",
    "    find_first_url_in_callstack\n",
    ")"
   ]
  },
  {
   "cell_type": "code",
   "execution_count": 10,
   "metadata": {},
   "outputs": [
    {
     "data": {
      "application/vnd.jupyter.widget-view+json": {
       "model_id": "5cf153d960dd4060af690582bb895251",
       "version_major": 2,
       "version_minor": 0
      },
      "text/plain": [
       "VBox(children=(HBox(children=(IntProgress(value=0, description='0.00%', max=6266793), Label(value='0 / 6266793…"
      ]
     },
     "metadata": {},
     "output_type": "display_data"
    }
   ],
   "source": [
    "df_event_listeners[\"filename\"] = df_event_listeners[\"url\"].parallel_apply(\n",
    "    get_javascript_filename\n",
    ")"
   ]
  },
  {
   "cell_type": "code",
   "execution_count": 11,
   "metadata": {},
   "outputs": [
    {
     "data": {
      "application/vnd.jupyter.widget-view+json": {
       "model_id": "17e1715e8883483b9c04d780a599cf55",
       "version_major": 2,
       "version_minor": 0
      },
      "text/plain": [
       "VBox(children=(HBox(children=(IntProgress(value=0, description='0.00%', max=671564), Label(value='0 / 671564')…"
      ]
     },
     "metadata": {},
     "output_type": "display_data"
    }
   ],
   "source": [
    "df_requests['calling_script'] = df_requests.request_call_stack.parallel_apply(find_script_in_callstack_json)"
   ]
  },
  {
   "cell_type": "code",
   "execution_count": 12,
   "metadata": {},
   "outputs": [
    {
     "data": {
      "application/vnd.jupyter.widget-view+json": {
       "model_id": "5b163b38ef5c43a99e2feac76d1c16fd",
       "version_major": 2,
       "version_minor": 0
      },
      "text/plain": [
       "VBox(children=(HBox(children=(IntProgress(value=0, description='0.00%', max=671564), Label(value='0 / 671564')…"
      ]
     },
     "metadata": {},
     "output_type": "display_data"
    }
   ],
   "source": [
    "df_requests['calling_script_filename'] = df_requests['calling_script'].parallel_apply(get_javascript_filename)"
   ]
  },
  {
   "cell_type": "code",
   "execution_count": 13,
   "metadata": {},
   "outputs": [
    {
     "data": {
      "application/vnd.jupyter.widget-view+json": {
       "model_id": "1cc7e66dcfa54e7d9cc08bc29d80c824",
       "version_major": 2,
       "version_minor": 0
      },
      "text/plain": [
       "VBox(children=(HBox(children=(IntProgress(value=0, description='0.00%', max=1865), Label(value='0 / 1865'))), …"
      ]
     },
     "metadata": {},
     "output_type": "display_data"
    }
   ],
   "source": [
    "df_callstacks['url'] = df_callstacks['stack'].parallel_apply(\n",
    "    find_first_url_in_callstack\n",
    ")"
   ]
  },
  {
   "cell_type": "code",
   "execution_count": 14,
   "metadata": {},
   "outputs": [
    {
     "data": {
      "application/vnd.jupyter.widget-view+json": {
       "model_id": "57d059a3bea14eef8f1821d7e2db3ea3",
       "version_major": 2,
       "version_minor": 0
      },
      "text/plain": [
       "VBox(children=(HBox(children=(IntProgress(value=0, description='0.00%', max=1865), Label(value='0 / 1865'))), …"
      ]
     },
     "metadata": {},
     "output_type": "display_data"
    }
   ],
   "source": [
    "df_callstacks[\"filename\"] = df_callstacks[\"url\"].parallel_apply(get_javascript_filename)"
   ]
  },
  {
   "cell_type": "code",
   "execution_count": 15,
   "metadata": {},
   "outputs": [
    {
     "data": {
      "application/vnd.jupyter.widget-view+json": {
       "model_id": "e5c53e81cafd453f8ab3c0e96da601bb",
       "version_major": 2,
       "version_minor": 0
      },
      "text/plain": [
       "VBox(children=(HBox(children=(IntProgress(value=0, description='0.00%', max=6266793), Label(value='0 / 6266793…"
      ]
     },
     "metadata": {},
     "output_type": "display_data"
    }
   ],
   "source": [
    "df_event_listeners[\"script_domain\"] = df_event_listeners[\"url\"].parallel_apply(\n",
    "    get_domain\n",
    ")"
   ]
  },
  {
   "cell_type": "code",
   "execution_count": 16,
   "metadata": {},
   "outputs": [
    {
     "data": {
      "application/vnd.jupyter.widget-view+json": {
       "model_id": "c31187d04afa4cf8956f62fb5cb770b4",
       "version_major": 2,
       "version_minor": 0
      },
      "text/plain": [
       "VBox(children=(HBox(children=(IntProgress(value=0, description='0.00%', max=6266793), Label(value='0 / 6266793…"
      ]
     },
     "metadata": {},
     "output_type": "display_data"
    }
   ],
   "source": [
    "df_event_listeners['site_domain'] = df_event_listeners.site.parallel_apply(get_domain)"
   ]
  },
  {
   "cell_type": "code",
   "execution_count": 17,
   "metadata": {},
   "outputs": [
    {
     "data": {
      "application/vnd.jupyter.widget-view+json": {
       "model_id": "13184ef8ac644b29abe3bb7a7516d2e0",
       "version_major": 2,
       "version_minor": 0
      },
      "text/plain": [
       "VBox(children=(HBox(children=(IntProgress(value=0, description='0.00%', max=1865), Label(value='0 / 1865'))), …"
      ]
     },
     "metadata": {},
     "output_type": "display_data"
    }
   ],
   "source": [
    "df_callstacks['script_domain'] = df_callstacks['url'].parallel_apply(get_domain)"
   ]
  },
  {
   "cell_type": "code",
   "execution_count": 18,
   "metadata": {},
   "outputs": [
    {
     "data": {
      "application/vnd.jupyter.widget-view+json": {
       "model_id": "5919b470b70c47b2a5635e91f851b33c",
       "version_major": 2,
       "version_minor": 0
      },
      "text/plain": [
       "VBox(children=(HBox(children=(IntProgress(value=0, description='0.00%', max=1865), Label(value='0 / 1865'))), …"
      ]
     },
     "metadata": {},
     "output_type": "display_data"
    }
   ],
   "source": [
    "df_callstacks['site_domain'] = df_callstacks['site'].parallel_apply(get_domain)"
   ]
  },
  {
   "cell_type": "code",
   "execution_count": 19,
   "metadata": {},
   "outputs": [
    {
     "data": {
      "application/vnd.jupyter.widget-view+json": {
       "model_id": "a4dc8d19ac754c7cafe70c3e2016a84e",
       "version_major": 2,
       "version_minor": 0
      },
      "text/plain": [
       "VBox(children=(HBox(children=(IntProgress(value=0, description='0.00%', max=24863), Label(value='0 / 24863')))…"
      ]
     },
     "metadata": {},
     "output_type": "display_data"
    }
   ],
   "source": [
    "df_interactions['site_domain'] = df_interactions['site_url'].parallel_apply(get_domain)"
   ]
  },
  {
   "cell_type": "code",
   "execution_count": 20,
   "metadata": {},
   "outputs": [
    {
     "data": {
      "application/vnd.jupyter.widget-view+json": {
       "model_id": "424010e442114ebba208bd5eb75a6845",
       "version_major": 2,
       "version_minor": 0
      },
      "text/plain": [
       "VBox(children=(HBox(children=(IntProgress(value=0, description='0.00%', max=671564), Label(value='0 / 671564')…"
      ]
     },
     "metadata": {},
     "output_type": "display_data"
    }
   ],
   "source": [
    "df_requests['site_domain'] = df_requests['site'].parallel_apply(get_domain)"
   ]
  },
  {
   "cell_type": "code",
   "execution_count": 21,
   "metadata": {},
   "outputs": [
    {
     "data": {
      "application/vnd.jupyter.widget-view+json": {
       "model_id": "17db7057c5a04eecaf9f6230ab176649",
       "version_major": 2,
       "version_minor": 0
      },
      "text/plain": [
       "VBox(children=(HBox(children=(IntProgress(value=0, description='0.00%', max=671564), Label(value='0 / 671564')…"
      ]
     },
     "metadata": {},
     "output_type": "display_data"
    }
   ],
   "source": [
    "df_requests['request_domain'] = df_requests['url'].parallel_apply(get_domain)"
   ]
  },
  {
   "cell_type": "code",
   "execution_count": 22,
   "metadata": {},
   "outputs": [
    {
     "data": {
      "application/vnd.jupyter.widget-view+json": {
       "model_id": "1af0ce7f863a4998a18a6980bd2a95ad",
       "version_major": 2,
       "version_minor": 0
      },
      "text/plain": [
       "VBox(children=(HBox(children=(IntProgress(value=0, description='0.00%', max=671564), Label(value='0 / 671564')…"
      ]
     },
     "metadata": {},
     "output_type": "display_data"
    }
   ],
   "source": [
    "df_requests['calling_script_domain'] = df_requests['calling_script'].parallel_apply(get_domain)"
   ]
  },
  {
   "cell_type": "code",
   "execution_count": 23,
   "metadata": {},
   "outputs": [],
   "source": [
    "df_event_listeners.drop('event', axis=1, inplace=True)"
   ]
  },
  {
   "cell_type": "code",
   "execution_count": 24,
   "metadata": {},
   "outputs": [],
   "source": [
    "df_callstacks.rename(columns={'timestamp': 'event_time'}, inplace=True)"
   ]
  },
  {
   "cell_type": "code",
   "execution_count": 25,
   "metadata": {},
   "outputs": [],
   "source": [
    "df_event_listeners = pd.concat([df_event_listeners, df_callstacks])"
   ]
  },
  {
   "cell_type": "code",
   "execution_count": 26,
   "metadata": {},
   "outputs": [
    {
     "name": "stderr",
     "output_type": "stream",
     "text": [
      "/tmp/ipykernel_1946816/3662881018.py:1: FutureWarning: A value is trying to be set on a copy of a DataFrame or Series through chained assignment using an inplace method.\n",
      "The behavior will change in pandas 3.0. This inplace method will never work because the intermediate object on which we are setting values always behaves as a copy.\n",
      "\n",
      "For example, when doing 'df[col].method(value, inplace=True)', try using 'df.method({col: value}, inplace=True)' or df[col] = df[col].method(value) instead, to perform the operation inplace on the original object.\n",
      "\n",
      "\n",
      "  df_event_listeners.event_type.replace('onkeydown', 'keydown', inplace=True)\n",
      "/tmp/ipykernel_1946816/3662881018.py:2: FutureWarning: A value is trying to be set on a copy of a DataFrame or Series through chained assignment using an inplace method.\n",
      "The behavior will change in pandas 3.0. This inplace method will never work because the intermediate object on which we are setting values always behaves as a copy.\n",
      "\n",
      "For example, when doing 'df[col].method(value, inplace=True)', try using 'df.method({col: value}, inplace=True)' or df[col] = df[col].method(value) instead, to perform the operation inplace on the original object.\n",
      "\n",
      "\n",
      "  df_event_listeners.event_type.replace('onkeyup', 'keyup', inplace=True)\n",
      "/tmp/ipykernel_1946816/3662881018.py:3: FutureWarning: A value is trying to be set on a copy of a DataFrame or Series through chained assignment using an inplace method.\n",
      "The behavior will change in pandas 3.0. This inplace method will never work because the intermediate object on which we are setting values always behaves as a copy.\n",
      "\n",
      "For example, when doing 'df[col].method(value, inplace=True)', try using 'df.method({col: value}, inplace=True)' or df[col] = df[col].method(value) instead, to perform the operation inplace on the original object.\n",
      "\n",
      "\n",
      "  df_event_listeners.event_type.replace('onkeypress', 'keypress', inplace=True)\n"
     ]
    }
   ],
   "source": [
    "df_event_listeners.event_type.replace('onkeydown', 'keydown', inplace=True)\n",
    "df_event_listeners.event_type.replace('onkeyup', 'keyup', inplace=True)\n",
    "df_event_listeners.event_type.replace('onkeypress', 'keypress', inplace=True)"
   ]
  },
  {
   "cell_type": "code",
   "execution_count": 27,
   "metadata": {},
   "outputs": [
    {
     "data": {
      "application/vnd.jupyter.widget-view+json": {
       "model_id": "6e6c5dada7fc40a7b97489ff6b0c5563",
       "version_major": 2,
       "version_minor": 0
      },
      "text/plain": [
       "VBox(children=(HBox(children=(IntProgress(value=0, description='0.00%', max=6268658), Label(value='0 / 6268658…"
      ]
     },
     "metadata": {},
     "output_type": "display_data"
    }
   ],
   "source": [
    "df_event_listeners['script_entity'] = df_event_listeners['script_domain'].parallel_apply(get_entity)"
   ]
  },
  {
   "cell_type": "code",
   "execution_count": 28,
   "metadata": {},
   "outputs": [
    {
     "data": {
      "application/vnd.jupyter.widget-view+json": {
       "model_id": "70a55ad2a08f4da0b4887c5ca1ea590c",
       "version_major": 2,
       "version_minor": 0
      },
      "text/plain": [
       "VBox(children=(HBox(children=(IntProgress(value=0, description='0.00%', max=6268658), Label(value='0 / 6268658…"
      ]
     },
     "metadata": {},
     "output_type": "display_data"
    }
   ],
   "source": [
    "df_event_listeners['site_entity'] = df_event_listeners['site_domain'].parallel_apply(get_entity)"
   ]
  },
  {
   "cell_type": "code",
   "execution_count": 29,
   "metadata": {},
   "outputs": [
    {
     "data": {
      "application/vnd.jupyter.widget-view+json": {
       "model_id": "ec08506ce6da40ef9bccf1af494e0447",
       "version_major": 2,
       "version_minor": 0
      },
      "text/plain": [
       "VBox(children=(HBox(children=(IntProgress(value=0, description='0.00%', max=24863), Label(value='0 / 24863')))…"
      ]
     },
     "metadata": {},
     "output_type": "display_data"
    }
   ],
   "source": [
    "df_interactions['site_entity'] = df_interactions['site_domain'].parallel_apply(get_entity)"
   ]
  },
  {
   "cell_type": "code",
   "execution_count": 30,
   "metadata": {},
   "outputs": [
    {
     "data": {
      "application/vnd.jupyter.widget-view+json": {
       "model_id": "653bc6d9af7b41449943f9c6194c2d98",
       "version_major": 2,
       "version_minor": 0
      },
      "text/plain": [
       "VBox(children=(HBox(children=(IntProgress(value=0, description='0.00%', max=671564), Label(value='0 / 671564')…"
      ]
     },
     "metadata": {},
     "output_type": "display_data"
    }
   ],
   "source": [
    "df_requests['site_domain'] = df_requests['site'].parallel_apply(get_domain)"
   ]
  },
  {
   "cell_type": "code",
   "execution_count": 31,
   "metadata": {},
   "outputs": [
    {
     "data": {
      "application/vnd.jupyter.widget-view+json": {
       "model_id": "b1abca9622e54a0290a78e6c71724ee1",
       "version_major": 2,
       "version_minor": 0
      },
      "text/plain": [
       "VBox(children=(HBox(children=(IntProgress(value=0, description='0.00%', max=671564), Label(value='0 / 671564')…"
      ]
     },
     "metadata": {},
     "output_type": "display_data"
    }
   ],
   "source": [
    "df_requests['request_entity'] = df_requests['request_domain'].parallel_apply(get_entity)"
   ]
  },
  {
   "cell_type": "code",
   "execution_count": 32,
   "metadata": {},
   "outputs": [
    {
     "data": {
      "application/vnd.jupyter.widget-view+json": {
       "model_id": "750318e4ceb14f9baceecfaa79c4ed90",
       "version_major": 2,
       "version_minor": 0
      },
      "text/plain": [
       "VBox(children=(HBox(children=(IntProgress(value=0, description='0.00%', max=671564), Label(value='0 / 671564')…"
      ]
     },
     "metadata": {},
     "output_type": "display_data"
    }
   ],
   "source": [
    "df_requests['calling_script_entity'] = df_requests['calling_script_domain'].parallel_apply(get_entity)"
   ]
  },
  {
   "cell_type": "markdown",
   "metadata": {},
   "source": [
    "# Save Data To Parquet"
   ]
  },
  {
   "cell_type": "code",
   "execution_count": 33,
   "metadata": {},
   "outputs": [],
   "source": [
    "# download_lists(\"filterlists\")\n",
    "filterlists, filterlist_rules = create_filterlist_rules(\"filterlists\")"
   ]
  },
  {
   "cell_type": "code",
   "execution_count": 56,
   "metadata": {},
   "outputs": [],
   "source": [
    "df_event_listeners['event_time'] = pd.to_datetime(\n",
    "    df_event_listeners['event_time'],\n",
    "    utc=True,\n",
    "    errors='coerce',    # bad or out-of-range → NaT\n",
    "    format='mixed'      # try inferring formats per-row\n",
    ")"
   ]
  },
  {
   "cell_type": "code",
   "execution_count": 57,
   "metadata": {},
   "outputs": [],
   "source": [
    "df_event_listeners.to_parquet(\"df_event_listeners.parquet\", engine=\"pyarrow\", index=False)"
   ]
  },
  {
   "cell_type": "code",
   "execution_count": 39,
   "metadata": {},
   "outputs": [
    {
     "data": {
      "application/vnd.microsoft.datawrangler.viewer.v0+json": {
       "columns": [
        {
         "name": "index",
         "rawType": "int64",
         "type": "integer"
        },
        {
         "name": "site_id",
         "rawType": "object",
         "type": "string"
        },
        {
         "name": "site_url",
         "rawType": "object",
         "type": "string"
        },
        {
         "name": "start_time",
         "rawType": "datetime64[ns, UTC]",
         "type": "unknown"
        },
        {
         "name": "end_time",
         "rawType": "datetime64[ns, UTC]",
         "type": "unknown"
        },
        {
         "name": "interaction_type",
         "rawType": "object",
         "type": "string"
        },
        {
         "name": "time_start",
         "rawType": "dbtime",
         "type": "unknown"
        },
        {
         "name": "time_end",
         "rawType": "dbtime",
         "type": "unknown"
        },
        {
         "name": "measurement",
         "rawType": "object",
         "type": "string"
        },
        {
         "name": "site_domain",
         "rawType": "object",
         "type": "string"
        },
        {
         "name": "site_entity",
         "rawType": "object",
         "type": "string"
        }
       ],
       "conversionMethod": "pd.DataFrame",
       "ref": "9a99cb63-5895-44e5-a59e-417323cc706a",
       "rows": [
        [
         "0",
         "1050_4",
         "https://www.ilovepdf.com/add_pdf_page_number",
         "2025-04-25 16:08:31.897000+00:00",
         "2025-04-25 16:08:32.338000+00:00",
         "fill_form_range",
         "16:08:31.897000",
         "16:08:32.338000",
         "25k_chunk_1.db",
         "ilovepdf.com",
         "ILOVEPDF S.L."
        ],
        [
         "1",
         "1050_4",
         "https://www.ilovepdf.com/add_pdf_page_number",
         "2025-04-25 16:08:43.604000+00:00",
         "2025-04-25 16:08:43.965000+00:00",
         "fill_form_range",
         "16:08:43.604000",
         "16:08:43.965000",
         "25k_chunk_1.db",
         "ilovepdf.com",
         "ILOVEPDF S.L."
        ],
        [
         "2",
         "1079_5",
         "https://letterboxd.com/about/",
         "2025-04-25 13:12:57.892000+00:00",
         "2025-04-25 13:12:58.580000+00:00",
         "fill_form_range",
         "13:12:57.892000",
         "13:12:58.580000",
         "25k_chunk_1.db",
         "letterboxd.com",
         "Cactuslab Limited"
        ],
        [
         "3",
         "1079_6",
         "https://letterboxd.com/afi/",
         "2025-04-25 13:13:52.848000+00:00",
         "2025-04-25 13:13:53.368000+00:00",
         "fill_form_range",
         "13:13:52.848000",
         "13:13:53.368000",
         "25k_chunk_1.db",
         "letterboxd.com",
         "Cactuslab Limited"
        ],
        [
         "4",
         "1079_7",
         "https://letterboxd.com/afi/story/spotlight-on-sinners-cinematographer-autumn-1/",
         "2025-04-25 13:14:40.610000+00:00",
         "2025-04-25 13:14:41.575000+00:00",
         "fill_form_range",
         "13:14:40.610000",
         "13:14:41.575000",
         "25k_chunk_1.db",
         "letterboxd.com",
         "Cactuslab Limited"
        ]
       ],
       "shape": {
        "columns": 10,
        "rows": 5
       }
      },
      "text/html": [
       "<div>\n",
       "<style scoped>\n",
       "    .dataframe tbody tr th:only-of-type {\n",
       "        vertical-align: middle;\n",
       "    }\n",
       "\n",
       "    .dataframe tbody tr th {\n",
       "        vertical-align: top;\n",
       "    }\n",
       "\n",
       "    .dataframe thead th {\n",
       "        text-align: right;\n",
       "    }\n",
       "</style>\n",
       "<table border=\"1\" class=\"dataframe\">\n",
       "  <thead>\n",
       "    <tr style=\"text-align: right;\">\n",
       "      <th></th>\n",
       "      <th>site_id</th>\n",
       "      <th>site_url</th>\n",
       "      <th>start_time</th>\n",
       "      <th>end_time</th>\n",
       "      <th>interaction_type</th>\n",
       "      <th>time_start</th>\n",
       "      <th>time_end</th>\n",
       "      <th>measurement</th>\n",
       "      <th>site_domain</th>\n",
       "      <th>site_entity</th>\n",
       "    </tr>\n",
       "  </thead>\n",
       "  <tbody>\n",
       "    <tr>\n",
       "      <th>0</th>\n",
       "      <td>1050_4</td>\n",
       "      <td>https://www.ilovepdf.com/add_pdf_page_number</td>\n",
       "      <td>2025-04-25 16:08:31.897000+00:00</td>\n",
       "      <td>2025-04-25 16:08:32.338000+00:00</td>\n",
       "      <td>fill_form_range</td>\n",
       "      <td>16:08:31.897000</td>\n",
       "      <td>16:08:32.338000</td>\n",
       "      <td>25k_chunk_1.db</td>\n",
       "      <td>ilovepdf.com</td>\n",
       "      <td>ILOVEPDF S.L.</td>\n",
       "    </tr>\n",
       "    <tr>\n",
       "      <th>1</th>\n",
       "      <td>1050_4</td>\n",
       "      <td>https://www.ilovepdf.com/add_pdf_page_number</td>\n",
       "      <td>2025-04-25 16:08:43.604000+00:00</td>\n",
       "      <td>2025-04-25 16:08:43.965000+00:00</td>\n",
       "      <td>fill_form_range</td>\n",
       "      <td>16:08:43.604000</td>\n",
       "      <td>16:08:43.965000</td>\n",
       "      <td>25k_chunk_1.db</td>\n",
       "      <td>ilovepdf.com</td>\n",
       "      <td>ILOVEPDF S.L.</td>\n",
       "    </tr>\n",
       "    <tr>\n",
       "      <th>2</th>\n",
       "      <td>1079_5</td>\n",
       "      <td>https://letterboxd.com/about/</td>\n",
       "      <td>2025-04-25 13:12:57.892000+00:00</td>\n",
       "      <td>2025-04-25 13:12:58.580000+00:00</td>\n",
       "      <td>fill_form_range</td>\n",
       "      <td>13:12:57.892000</td>\n",
       "      <td>13:12:58.580000</td>\n",
       "      <td>25k_chunk_1.db</td>\n",
       "      <td>letterboxd.com</td>\n",
       "      <td>Cactuslab Limited</td>\n",
       "    </tr>\n",
       "    <tr>\n",
       "      <th>3</th>\n",
       "      <td>1079_6</td>\n",
       "      <td>https://letterboxd.com/afi/</td>\n",
       "      <td>2025-04-25 13:13:52.848000+00:00</td>\n",
       "      <td>2025-04-25 13:13:53.368000+00:00</td>\n",
       "      <td>fill_form_range</td>\n",
       "      <td>13:13:52.848000</td>\n",
       "      <td>13:13:53.368000</td>\n",
       "      <td>25k_chunk_1.db</td>\n",
       "      <td>letterboxd.com</td>\n",
       "      <td>Cactuslab Limited</td>\n",
       "    </tr>\n",
       "    <tr>\n",
       "      <th>4</th>\n",
       "      <td>1079_7</td>\n",
       "      <td>https://letterboxd.com/afi/story/spotlight-on-...</td>\n",
       "      <td>2025-04-25 13:14:40.610000+00:00</td>\n",
       "      <td>2025-04-25 13:14:41.575000+00:00</td>\n",
       "      <td>fill_form_range</td>\n",
       "      <td>13:14:40.610000</td>\n",
       "      <td>13:14:41.575000</td>\n",
       "      <td>25k_chunk_1.db</td>\n",
       "      <td>letterboxd.com</td>\n",
       "      <td>Cactuslab Limited</td>\n",
       "    </tr>\n",
       "  </tbody>\n",
       "</table>\n",
       "</div>"
      ],
      "text/plain": [
       "  site_id                                           site_url  \\\n",
       "0  1050_4       https://www.ilovepdf.com/add_pdf_page_number   \n",
       "1  1050_4       https://www.ilovepdf.com/add_pdf_page_number   \n",
       "2  1079_5                      https://letterboxd.com/about/   \n",
       "3  1079_6                        https://letterboxd.com/afi/   \n",
       "4  1079_7  https://letterboxd.com/afi/story/spotlight-on-...   \n",
       "\n",
       "                        start_time                         end_time  \\\n",
       "0 2025-04-25 16:08:31.897000+00:00 2025-04-25 16:08:32.338000+00:00   \n",
       "1 2025-04-25 16:08:43.604000+00:00 2025-04-25 16:08:43.965000+00:00   \n",
       "2 2025-04-25 13:12:57.892000+00:00 2025-04-25 13:12:58.580000+00:00   \n",
       "3 2025-04-25 13:13:52.848000+00:00 2025-04-25 13:13:53.368000+00:00   \n",
       "4 2025-04-25 13:14:40.610000+00:00 2025-04-25 13:14:41.575000+00:00   \n",
       "\n",
       "  interaction_type       time_start         time_end     measurement  \\\n",
       "0  fill_form_range  16:08:31.897000  16:08:32.338000  25k_chunk_1.db   \n",
       "1  fill_form_range  16:08:43.604000  16:08:43.965000  25k_chunk_1.db   \n",
       "2  fill_form_range  13:12:57.892000  13:12:58.580000  25k_chunk_1.db   \n",
       "3  fill_form_range  13:13:52.848000  13:13:53.368000  25k_chunk_1.db   \n",
       "4  fill_form_range  13:14:40.610000  13:14:41.575000  25k_chunk_1.db   \n",
       "\n",
       "      site_domain        site_entity  \n",
       "0    ilovepdf.com      ILOVEPDF S.L.  \n",
       "1    ilovepdf.com      ILOVEPDF S.L.  \n",
       "2  letterboxd.com  Cactuslab Limited  \n",
       "3  letterboxd.com  Cactuslab Limited  \n",
       "4  letterboxd.com  Cactuslab Limited  "
      ]
     },
     "execution_count": 39,
     "metadata": {},
     "output_type": "execute_result"
    }
   ],
   "source": [
    "df_interactions.head()"
   ]
  },
  {
   "cell_type": "code",
   "execution_count": null,
   "metadata": {},
   "outputs": [],
   "source": [
    "# if they’re already datetime64[us, UTC], this will up-cast to ns and preserve UTC\n",
    "df_interactions[\"start_time\"] = df_interactions[\"start_time\"].astype(\n",
    "    \"datetime64[ns, UTC]\"\n",
    ")\n",
    "df_interactions[\"end_time\"] = df_interactions[\"end_time\"].astype(\"datetime64[ns, UTC]\")\n",
    "\n",
    "# drop unneeded columns\n",
    "df_interactions.drop(\n",
    "    [\"time_end\", \"time_start\"],\n",
    "    axis=1,\n",
    "    inplace=True,\n",
    ")\n",
    "\n",
    "df_interactions.to_parquet(\"df_interactions.parquet\", engine=\"pyarrow\", index=False)"
   ]
  },
  {
   "cell_type": "code",
   "execution_count": null,
   "metadata": {},
   "outputs": [],
   "source": [
    "df_requests['request_time'] = pd.to_datetime(df_requests['request_time'], utc=True)"
   ]
  },
  {
   "cell_type": "code",
   "execution_count": 47,
   "metadata": {},
   "outputs": [],
   "source": [
    "df_requests.to_parquet(\"df_requests.parquet\", engine=\"pyarrow\", index=False)"
   ]
  },
  {
   "cell_type": "code",
   "execution_count": 51,
   "metadata": {},
   "outputs": [],
   "source": [
    "df_callstacks['event_time'] = pd.to_datetime(\n",
    "    df_callstacks['event_time'],\n",
    "    utc=True,           # or drop this if your data has no timezone\n",
    ")\n"
   ]
  },
  {
   "cell_type": "code",
   "execution_count": 52,
   "metadata": {},
   "outputs": [],
   "source": [
    "df_callstacks.to_parquet(\"df_callstacks.parquet\", engine=\"pyarrow\", index=False)"
   ]
  },
  {
   "cell_type": "markdown",
   "metadata": {},
   "source": [
    "# Read saved data"
   ]
  },
  {
   "cell_type": "code",
   "execution_count": 2,
   "metadata": {},
   "outputs": [],
   "source": [
    "df_event_listeners = pd.read_parquet(\"df_event_listeners.parquet\", engine=\"pyarrow\")"
   ]
  },
  {
   "cell_type": "code",
   "execution_count": 3,
   "metadata": {},
   "outputs": [],
   "source": [
    "df_interactions = pd.read_parquet(\"df_interactions.parquet\", engine=\"pyarrow\")"
   ]
  },
  {
   "cell_type": "code",
   "execution_count": 4,
   "metadata": {},
   "outputs": [],
   "source": [
    "import pyarrow as pa\n",
    "import pyarrow.parquet as pq\n",
    "\n",
    "# 1) Read the Parquet file _without_ pulling in pandas metadata\n",
    "table = pq.read_table(\"df_requests.parquet\", use_pandas_metadata=False)\n",
    "\n",
    "# 2) (Optional) Strip _all_ schema metadata to be 100% sure\n",
    "table = table.replace_schema_metadata({})\n",
    "\n",
    "# 3) Drop your unwanted 'time' column (if it still exists)\n",
    "if \"time\" in table.schema.names:\n",
    "    idx = table.schema.get_field_index(\"time\")\n",
    "    table = table.remove_column(idx)\n",
    "\n",
    "# 4) Convert to a DataFrame\n",
    "df_requests = table.to_pandas()"
   ]
  },
  {
   "cell_type": "code",
   "execution_count": 4,
   "metadata": {},
   "outputs": [
    {
     "ename": "TypeError",
     "evalue": "data type 'dbtime' not understood",
     "output_type": "error",
     "traceback": [
      "\u001b[0;31m---------------------------------------------------------------------------\u001b[0m",
      "\u001b[0;31mTypeError\u001b[0m                                 Traceback (most recent call last)",
      "Cell \u001b[0;32mIn[4], line 1\u001b[0m\n\u001b[0;32m----> 1\u001b[0m df_requests \u001b[38;5;241m=\u001b[39m \u001b[43mpd\u001b[49m\u001b[38;5;241;43m.\u001b[39;49m\u001b[43mread_parquet\u001b[49m\u001b[43m(\u001b[49m\u001b[38;5;124;43m\"\u001b[39;49m\u001b[38;5;124;43mdf_requests.parquet\u001b[39;49m\u001b[38;5;124;43m\"\u001b[39;49m\u001b[43m,\u001b[49m\u001b[43m \u001b[49m\u001b[43mengine\u001b[49m\u001b[38;5;241;43m=\u001b[39;49m\u001b[38;5;124;43m\"\u001b[39;49m\u001b[38;5;124;43mpyarrow\u001b[39;49m\u001b[38;5;124;43m\"\u001b[39;49m\u001b[43m)\u001b[49m\n",
      "File \u001b[0;32m/opt/miniconda3/envs/wiretapping/lib/python3.12/site-packages/pandas/io/parquet.py:667\u001b[0m, in \u001b[0;36mread_parquet\u001b[0;34m(path, engine, columns, storage_options, use_nullable_dtypes, dtype_backend, filesystem, filters, **kwargs)\u001b[0m\n\u001b[1;32m    664\u001b[0m     use_nullable_dtypes \u001b[38;5;241m=\u001b[39m \u001b[38;5;28;01mFalse\u001b[39;00m\n\u001b[1;32m    665\u001b[0m check_dtype_backend(dtype_backend)\n\u001b[0;32m--> 667\u001b[0m \u001b[38;5;28;01mreturn\u001b[39;00m \u001b[43mimpl\u001b[49m\u001b[38;5;241;43m.\u001b[39;49m\u001b[43mread\u001b[49m\u001b[43m(\u001b[49m\n\u001b[1;32m    668\u001b[0m \u001b[43m    \u001b[49m\u001b[43mpath\u001b[49m\u001b[43m,\u001b[49m\n\u001b[1;32m    669\u001b[0m \u001b[43m    \u001b[49m\u001b[43mcolumns\u001b[49m\u001b[38;5;241;43m=\u001b[39;49m\u001b[43mcolumns\u001b[49m\u001b[43m,\u001b[49m\n\u001b[1;32m    670\u001b[0m \u001b[43m    \u001b[49m\u001b[43mfilters\u001b[49m\u001b[38;5;241;43m=\u001b[39;49m\u001b[43mfilters\u001b[49m\u001b[43m,\u001b[49m\n\u001b[1;32m    671\u001b[0m \u001b[43m    \u001b[49m\u001b[43mstorage_options\u001b[49m\u001b[38;5;241;43m=\u001b[39;49m\u001b[43mstorage_options\u001b[49m\u001b[43m,\u001b[49m\n\u001b[1;32m    672\u001b[0m \u001b[43m    \u001b[49m\u001b[43muse_nullable_dtypes\u001b[49m\u001b[38;5;241;43m=\u001b[39;49m\u001b[43muse_nullable_dtypes\u001b[49m\u001b[43m,\u001b[49m\n\u001b[1;32m    673\u001b[0m \u001b[43m    \u001b[49m\u001b[43mdtype_backend\u001b[49m\u001b[38;5;241;43m=\u001b[39;49m\u001b[43mdtype_backend\u001b[49m\u001b[43m,\u001b[49m\n\u001b[1;32m    674\u001b[0m \u001b[43m    \u001b[49m\u001b[43mfilesystem\u001b[49m\u001b[38;5;241;43m=\u001b[39;49m\u001b[43mfilesystem\u001b[49m\u001b[43m,\u001b[49m\n\u001b[1;32m    675\u001b[0m \u001b[43m    \u001b[49m\u001b[38;5;241;43m*\u001b[39;49m\u001b[38;5;241;43m*\u001b[39;49m\u001b[43mkwargs\u001b[49m\u001b[43m,\u001b[49m\n\u001b[1;32m    676\u001b[0m \u001b[43m\u001b[49m\u001b[43m)\u001b[49m\n",
      "File \u001b[0;32m/opt/miniconda3/envs/wiretapping/lib/python3.12/site-packages/pandas/io/parquet.py:281\u001b[0m, in \u001b[0;36mPyArrowImpl.read\u001b[0;34m(self, path, columns, filters, use_nullable_dtypes, dtype_backend, storage_options, filesystem, **kwargs)\u001b[0m\n\u001b[1;32m    273\u001b[0m \u001b[38;5;28;01mtry\u001b[39;00m:\n\u001b[1;32m    274\u001b[0m     pa_table \u001b[38;5;241m=\u001b[39m \u001b[38;5;28mself\u001b[39m\u001b[38;5;241m.\u001b[39mapi\u001b[38;5;241m.\u001b[39mparquet\u001b[38;5;241m.\u001b[39mread_table(\n\u001b[1;32m    275\u001b[0m         path_or_handle,\n\u001b[1;32m    276\u001b[0m         columns\u001b[38;5;241m=\u001b[39mcolumns,\n\u001b[0;32m   (...)\u001b[0m\n\u001b[1;32m    279\u001b[0m         \u001b[38;5;241m*\u001b[39m\u001b[38;5;241m*\u001b[39mkwargs,\n\u001b[1;32m    280\u001b[0m     )\n\u001b[0;32m--> 281\u001b[0m     result \u001b[38;5;241m=\u001b[39m \u001b[43mpa_table\u001b[49m\u001b[38;5;241;43m.\u001b[39;49m\u001b[43mto_pandas\u001b[49m\u001b[43m(\u001b[49m\u001b[38;5;241;43m*\u001b[39;49m\u001b[38;5;241;43m*\u001b[39;49m\u001b[43mto_pandas_kwargs\u001b[49m\u001b[43m)\u001b[49m\n\u001b[1;32m    283\u001b[0m     \u001b[38;5;28;01mif\u001b[39;00m manager \u001b[38;5;241m==\u001b[39m \u001b[38;5;124m\"\u001b[39m\u001b[38;5;124marray\u001b[39m\u001b[38;5;124m\"\u001b[39m:\n\u001b[1;32m    284\u001b[0m         result \u001b[38;5;241m=\u001b[39m result\u001b[38;5;241m.\u001b[39m_as_manager(\u001b[38;5;124m\"\u001b[39m\u001b[38;5;124marray\u001b[39m\u001b[38;5;124m\"\u001b[39m, copy\u001b[38;5;241m=\u001b[39m\u001b[38;5;28;01mFalse\u001b[39;00m)\n",
      "File \u001b[0;32m/opt/miniconda3/envs/wiretapping/lib/python3.12/site-packages/pyarrow/array.pxi:885\u001b[0m, in \u001b[0;36mpyarrow.lib._PandasConvertible.to_pandas\u001b[0;34m()\u001b[0m\n",
      "File \u001b[0;32m/opt/miniconda3/envs/wiretapping/lib/python3.12/site-packages/pyarrow/table.pxi:5002\u001b[0m, in \u001b[0;36mpyarrow.lib.Table._to_pandas\u001b[0;34m()\u001b[0m\n",
      "File \u001b[0;32m/opt/miniconda3/envs/wiretapping/lib/python3.12/site-packages/pyarrow/pandas_compat.py:774\u001b[0m, in \u001b[0;36mtable_to_dataframe\u001b[0;34m(options, table, categories, ignore_metadata, types_mapper)\u001b[0m\n\u001b[1;32m    771\u001b[0m     table \u001b[38;5;241m=\u001b[39m _add_any_metadata(table, pandas_metadata)\n\u001b[1;32m    772\u001b[0m     table, index \u001b[38;5;241m=\u001b[39m _reconstruct_index(table, index_descriptors,\n\u001b[1;32m    773\u001b[0m                                       all_columns, types_mapper)\n\u001b[0;32m--> 774\u001b[0m     ext_columns_dtypes \u001b[38;5;241m=\u001b[39m \u001b[43m_get_extension_dtypes\u001b[49m\u001b[43m(\u001b[49m\n\u001b[1;32m    775\u001b[0m \u001b[43m        \u001b[49m\u001b[43mtable\u001b[49m\u001b[43m,\u001b[49m\u001b[43m \u001b[49m\u001b[43mall_columns\u001b[49m\u001b[43m,\u001b[49m\u001b[43m \u001b[49m\u001b[43mtypes_mapper\u001b[49m\u001b[43m)\u001b[49m\n\u001b[1;32m    776\u001b[0m \u001b[38;5;28;01melse\u001b[39;00m:\n\u001b[1;32m    777\u001b[0m     index \u001b[38;5;241m=\u001b[39m _pandas_api\u001b[38;5;241m.\u001b[39mpd\u001b[38;5;241m.\u001b[39mRangeIndex(table\u001b[38;5;241m.\u001b[39mnum_rows)\n",
      "File \u001b[0;32m/opt/miniconda3/envs/wiretapping/lib/python3.12/site-packages/pyarrow/pandas_compat.py:853\u001b[0m, in \u001b[0;36m_get_extension_dtypes\u001b[0;34m(table, columns_metadata, types_mapper)\u001b[0m\n\u001b[1;32m    848\u001b[0m dtype \u001b[38;5;241m=\u001b[39m col_meta[\u001b[38;5;124m'\u001b[39m\u001b[38;5;124mnumpy_type\u001b[39m\u001b[38;5;124m'\u001b[39m]\n\u001b[1;32m    850\u001b[0m \u001b[38;5;28;01mif\u001b[39;00m dtype \u001b[38;5;129;01mnot\u001b[39;00m \u001b[38;5;129;01min\u001b[39;00m _pandas_supported_numpy_types:\n\u001b[1;32m    851\u001b[0m     \u001b[38;5;66;03m# pandas_dtype is expensive, so avoid doing this for types\u001b[39;00m\n\u001b[1;32m    852\u001b[0m     \u001b[38;5;66;03m# that are certainly numpy dtypes\u001b[39;00m\n\u001b[0;32m--> 853\u001b[0m     pandas_dtype \u001b[38;5;241m=\u001b[39m \u001b[43m_pandas_api\u001b[49m\u001b[38;5;241;43m.\u001b[39;49m\u001b[43mpandas_dtype\u001b[49m\u001b[43m(\u001b[49m\u001b[43mdtype\u001b[49m\u001b[43m)\u001b[49m\n\u001b[1;32m    854\u001b[0m     \u001b[38;5;28;01mif\u001b[39;00m \u001b[38;5;28misinstance\u001b[39m(pandas_dtype, _pandas_api\u001b[38;5;241m.\u001b[39mextension_dtype):\n\u001b[1;32m    855\u001b[0m         \u001b[38;5;28;01mif\u001b[39;00m \u001b[38;5;28mhasattr\u001b[39m(pandas_dtype, \u001b[38;5;124m\"\u001b[39m\u001b[38;5;124m__from_arrow__\u001b[39m\u001b[38;5;124m\"\u001b[39m):\n",
      "File \u001b[0;32m/opt/miniconda3/envs/wiretapping/lib/python3.12/site-packages/pyarrow/pandas-shim.pxi:148\u001b[0m, in \u001b[0;36mpyarrow.lib._PandasAPIShim.pandas_dtype\u001b[0;34m()\u001b[0m\n",
      "File \u001b[0;32m/opt/miniconda3/envs/wiretapping/lib/python3.12/site-packages/pyarrow/pandas-shim.pxi:151\u001b[0m, in \u001b[0;36mpyarrow.lib._PandasAPIShim.pandas_dtype\u001b[0;34m()\u001b[0m\n",
      "File \u001b[0;32m/opt/miniconda3/envs/wiretapping/lib/python3.12/site-packages/pandas/core/dtypes/common.py:1645\u001b[0m, in \u001b[0;36mpandas_dtype\u001b[0;34m(dtype)\u001b[0m\n\u001b[1;32m   1640\u001b[0m     \u001b[38;5;28;01mwith\u001b[39;00m warnings\u001b[38;5;241m.\u001b[39mcatch_warnings():\n\u001b[1;32m   1641\u001b[0m         \u001b[38;5;66;03m# GH#51523 - Series.astype(np.integer) doesn't show\u001b[39;00m\n\u001b[1;32m   1642\u001b[0m         \u001b[38;5;66;03m# numpy deprecation warning of np.integer\u001b[39;00m\n\u001b[1;32m   1643\u001b[0m         \u001b[38;5;66;03m# Hence enabling DeprecationWarning\u001b[39;00m\n\u001b[1;32m   1644\u001b[0m         warnings\u001b[38;5;241m.\u001b[39msimplefilter(\u001b[38;5;124m\"\u001b[39m\u001b[38;5;124malways\u001b[39m\u001b[38;5;124m\"\u001b[39m, \u001b[38;5;167;01mDeprecationWarning\u001b[39;00m)\n\u001b[0;32m-> 1645\u001b[0m         npdtype \u001b[38;5;241m=\u001b[39m \u001b[43mnp\u001b[49m\u001b[38;5;241;43m.\u001b[39;49m\u001b[43mdtype\u001b[49m\u001b[43m(\u001b[49m\u001b[43mdtype\u001b[49m\u001b[43m)\u001b[49m\n\u001b[1;32m   1646\u001b[0m \u001b[38;5;28;01mexcept\u001b[39;00m \u001b[38;5;167;01mSyntaxError\u001b[39;00m \u001b[38;5;28;01mas\u001b[39;00m err:\n\u001b[1;32m   1647\u001b[0m     \u001b[38;5;66;03m# np.dtype uses `eval` which can raise SyntaxError\u001b[39;00m\n\u001b[1;32m   1648\u001b[0m     \u001b[38;5;28;01mraise\u001b[39;00m \u001b[38;5;167;01mTypeError\u001b[39;00m(\u001b[38;5;124mf\u001b[39m\u001b[38;5;124m\"\u001b[39m\u001b[38;5;124mdata type \u001b[39m\u001b[38;5;124m'\u001b[39m\u001b[38;5;132;01m{\u001b[39;00mdtype\u001b[38;5;132;01m}\u001b[39;00m\u001b[38;5;124m'\u001b[39m\u001b[38;5;124m not understood\u001b[39m\u001b[38;5;124m\"\u001b[39m) \u001b[38;5;28;01mfrom\u001b[39;00m \u001b[38;5;21;01merr\u001b[39;00m\n",
      "\u001b[0;31mTypeError\u001b[0m: data type 'dbtime' not understood"
     ]
    }
   ],
   "source": [
    "df_requests = pd.read_parquet(\"df_requests.parquet\", engine=\"pyarrow\")"
   ]
  },
  {
   "cell_type": "code",
   "execution_count": 5,
   "metadata": {},
   "outputs": [],
   "source": [
    "df_callstacks = pd.read_parquet(\"df_callstacks.parquet\", engine=\"pyarrow\")"
   ]
  },
  {
   "cell_type": "markdown",
   "metadata": {},
   "source": [
    "# Event Listener Statistics"
   ]
  },
  {
   "cell_type": "code",
   "execution_count": 6,
   "metadata": {},
   "outputs": [],
   "source": [
    "n_sites = len(list(set(df_event_listeners.site_domain.unique().tolist() + df_requests.site_domain.unique().tolist() + df_interactions.site_domain.unique().tolist() + df_callstacks.site_domain.unique().tolist())))"
   ]
  },
  {
   "cell_type": "code",
   "execution_count": 7,
   "metadata": {},
   "outputs": [
    {
     "name": "stdout",
     "output_type": "stream",
     "text": [
      "Total number of sites:  14471\n"
     ]
    }
   ],
   "source": [
    "print(\"Total number of sites: \", n_sites)"
   ]
  },
  {
   "cell_type": "code",
   "execution_count": 8,
   "metadata": {},
   "outputs": [
    {
     "name": "stdout",
     "output_type": "stream",
     "text": [
      "Total types of event listeners: 12781\n"
     ]
    }
   ],
   "source": [
    "print(\"Total types of event listeners:\", len(df_event_listeners.event_type.unique().tolist()))"
   ]
  },
  {
   "cell_type": "code",
   "execution_count": 9,
   "metadata": {},
   "outputs": [],
   "source": [
    "df_temp = df_event_listeners[\n",
    "    [\"site_domain\", \"event_type\"]\n",
    "].drop_duplicates().event_type.value_counts().reset_index()[:20]\n",
    "df_temp[\"count_percentage\"] = df_temp[\"count\"] / n_sites * 100\n",
    "df_temp[['event_type','count_percentage']].to_latex(\n",
    "    \"event_types.tex\",\n",
    "    column_format=\"lr\",\n",
    "    float_format=\"%.2f\",\n",
    "    index=False,\n",
    "    escape=False,                                    # allow raw LaTeX in your cells\n",
    "    formatters={\n",
    "        'event_type': lambda x: f'\\\\texttt{{{x}}}'  # wrap each entry in \\texttt{…}\n",
    "    }\n",
    ")"
   ]
  },
  {
   "cell_type": "code",
   "execution_count": 10,
   "metadata": {},
   "outputs": [],
   "source": [
    "del df_temp"
   ]
  },
  {
   "cell_type": "code",
   "execution_count": 11,
   "metadata": {},
   "outputs": [
    {
     "name": "stdout",
     "output_type": "stream",
     "text": [
      "Event listeners set by first-party scripts: 18.70075032957012\n"
     ]
    }
   ],
   "source": [
    "print(\"Event listeners set by first-party scripts:\", df_event_listeners[df_event_listeners.site_entity == df_event_listeners.script_entity][\n",
    "    [\"site_domain\", \"event_type\", \"script_domain\"]\n",
    "].drop_duplicates().shape[0] / df_event_listeners[\n",
    "    [\"site_domain\", \"event_type\", \"script_domain\"]\n",
    "].drop_duplicates().shape[\n",
    "    0\n",
    "] * 100)"
   ]
  },
  {
   "cell_type": "code",
   "execution_count": 12,
   "metadata": {},
   "outputs": [
    {
     "name": "stdout",
     "output_type": "stream",
     "text": [
      "Event listeners set by third-party scripts: 81.29924967042987\n"
     ]
    }
   ],
   "source": [
    "print(\"Event listeners set by third-party scripts:\", df_event_listeners[df_event_listeners.site_entity != df_event_listeners.script_entity][\n",
    "    [\"site_domain\", \"event_type\", \"script_domain\"]\n",
    "].drop_duplicates().shape[0] / df_event_listeners[\n",
    "    [\"site_domain\", \"event_type\", \"script_domain\"]\n",
    "].drop_duplicates().shape[\n",
    "    0\n",
    "] * 100)"
   ]
  },
  {
   "cell_type": "code",
   "execution_count": 13,
   "metadata": {},
   "outputs": [
    {
     "name": "stdout",
     "output_type": "stream",
     "text": [
      "Percentage of sites where at least one event listener is present: 91.47951074562918\n"
     ]
    }
   ],
   "source": [
    "print(\"Percentage of sites where at least one event listener is present:\", df_event_listeners[\n",
    "    [\"site_domain\", \"event_type\"]\n",
    "].site_domain.nunique()/n_sites * 100)"
   ]
  },
  {
   "cell_type": "code",
   "execution_count": 14,
   "metadata": {},
   "outputs": [
    {
     "name": "stdout",
     "output_type": "stream",
     "text": [
      "Average number of event listeners installed per website: 48.802639762283185\n"
     ]
    }
   ],
   "source": [
    "print(\"Average number of event listeners installed per website:\", df_event_listeners[['site_domain', 'event_type', 'script_domain']].drop_duplicates().shape[0]/n_sites)"
   ]
  },
  {
   "cell_type": "code",
   "execution_count": 15,
   "metadata": {},
   "outputs": [],
   "source": [
    "def get_top_three_most_used_events(script_domain):\n",
    "    return (\n",
    "        df_event_listeners[df_event_listeners.script_domain == script_domain]\n",
    "        .event_type.value_counts()\n",
    "        .head(3)\n",
    "        .index.tolist()\n",
    "    )\n",
    "\n",
    "def get_top_three_most_used_scripts(script_domain):\n",
    "    return (\n",
    "        df_event_listeners[(df_event_listeners.script_domain == script_domain) & (df_event_listeners.filename.str.contains('.js'))]\n",
    "        .filename.value_counts()\n",
    "        .head(3)\n",
    "        .index.tolist()\n",
    "    )\n",
    "\n",
    "\n",
    "df_event_listeners_stats = df_event_listeners[\n",
    "    df_event_listeners.site_entity != df_event_listeners.script_entity\n",
    "][[\"site_domain\", \"script_domain\", \"event_type\"]]\n",
    "df_event_listeners_stats.drop_duplicates(inplace=True)\n",
    "\n",
    "df_script_stats = (\n",
    "    df_event_listeners_stats[[\"script_domain\", \"site_domain\"]]\n",
    "    .drop_duplicates()\n",
    "    .groupby(\"script_domain\")\n",
    "    .size()\n",
    "    .reset_index(name=\"count\")\n",
    ")\n",
    "\n",
    "df_top_scripts = (\n",
    "    df_script_stats.sort_values(by=\"count\", ascending=False)\n",
    "    .head(20)\n",
    "    .script_domain.tolist()\n",
    ")\n",
    "\n",
    "df_script_info = (\n",
    "    df_script_stats.sort_values(by=\"count\", ascending=False)\n",
    "    .reset_index(drop=True)\n",
    "    .head(20)\n",
    "    .rename(columns={\"script_domain\": \"Script Domain\", \"count\": \"Number of Sites\"})\n",
    ")\n",
    "\n",
    "df_script_info[\"event_types\"] = df_script_info[\"event_types\"] = df_script_info[\n",
    "    \"Script Domain\"\n",
    "].apply(lambda x: \", \".join(get_top_three_most_used_events(x)))\n",
    "\n",
    "df_script_info[\"scripts_used\"] = df_script_info[\"Script Domain\"].apply(\n",
    "    lambda x: \", \".join(get_top_three_most_used_scripts(x))\n",
    ")\n",
    "\n",
    "df_script_info[\"Percentage of Sites\"] = (\n",
    "    df_script_info[\"Number of Sites\"] / n_sites * 100\n",
    ")\n",
    "\n",
    "# round to 2 decimal places\n",
    "df_script_info[\"Percentage of Sites\"] = df_script_info[\"Percentage of Sites\"].round(2)\n",
    "\n",
    "df_script_info[\n",
    "    [\"Script Domain\", \"Percentage of Sites\", \"event_types\", \"scripts_used\"]\n",
    "].to_latex(\"top_scripts.tex\", index=False, column_format=\"lrr\", float_format=\"%.2f\")"
   ]
  },
  {
   "cell_type": "markdown",
   "metadata": {},
   "source": [
    "# Wiretapping Stats"
   ]
  },
  {
   "cell_type": "code",
   "execution_count": 16,
   "metadata": {},
   "outputs": [
    {
     "name": "stderr",
     "output_type": "stream",
     "text": [
      "/tmp/ipykernel_628538/1025678490.py:34: FutureWarning: A value is trying to be set on a copy of a DataFrame or Series through chained assignment using an inplace method.\n",
      "The behavior will change in pandas 3.0. This inplace method will never work because the intermediate object on which we are setting values always behaves as a copy.\n",
      "\n",
      "For example, when doing 'df[col].method(value, inplace=True)', try using 'df.method({col: value}, inplace=True)' or df[col] = df[col].method(value) instead, to perform the operation inplace on the original object.\n",
      "\n",
      "\n",
      "  df_event_listeners_wiretappers.exfiltrator.fillna(False, inplace=True)\n",
      "/tmp/ipykernel_628538/1025678490.py:34: FutureWarning: Downcasting object dtype arrays on .fillna, .ffill, .bfill is deprecated and will change in a future version. Call result.infer_objects(copy=False) instead. To opt-in to the future behavior, set `pd.set_option('future.no_silent_downcasting', True)`\n",
      "  df_event_listeners_wiretappers.exfiltrator.fillna(False, inplace=True)\n"
     ]
    }
   ],
   "source": [
    "wiretapping_events = [\n",
    "    \"keypress\",\n",
    "    \"keypressed\",\n",
    "    \"keyup\",\n",
    "    \"keydown\",\n",
    "]\n",
    "df_event_listeners_wiretappers = df_event_listeners[\n",
    "    (df_event_listeners.event_type.isin(wiretapping_events)) & (df_event_listeners.site_entity != df_event_listeners.script_entity)\n",
    "]\n",
    "\n",
    "df_request_exfils = df_requests[df_requests.data_leak == True]\n",
    "\n",
    "df_request_exfiltrators = df_request_exfils[\n",
    "    ~df_request_exfils.calling_script_domain.isna()\n",
    "][\n",
    "    [\n",
    "        \"site\",\n",
    "        \"calling_script_filename\",\n",
    "        \"calling_script_domain\",\n",
    "        \"calling_script_entity\",\n",
    "        \"request_domain\",\n",
    "        \"request_entity\",\n",
    "        \"data_leak_type\",\n",
    "    ]\n",
    "]\n",
    "\n",
    "df_request_exfiltrators = df_request_exfiltrators.dropna()\n",
    "df_request_exfiltrators['exfiltrator'] = True\n",
    "\n",
    "df_event_listeners_wiretappers = df_event_listeners_wiretappers.merge(\n",
    "    df_request_exfiltrators, how=\"left\", left_on=[\"site\", \"script_entity\"], right_on=[\"site\", \"calling_script_entity\"]\n",
    ") \n",
    "\n",
    "df_event_listeners_wiretappers.exfiltrator.fillna(False, inplace=True)\n",
    "\n",
    "df_event_listeners_wiretappers.rename(columns={\"exfiltrator\": \"leakage\"}, inplace=True)"
   ]
  },
  {
   "cell_type": "code",
   "execution_count": 17,
   "metadata": {},
   "outputs": [
    {
     "name": "stdout",
     "output_type": "stream",
     "text": [
      "Percentage of sites where wiretapping event listeners are installed: site_domain    41.572801\n",
      "dtype: float64\n"
     ]
    }
   ],
   "source": [
    "print(\"Percentage of sites where wiretapping event listeners are installed:\", df_event_listeners_wiretappers[['site_domain']].nunique()/n_sites * 100)"
   ]
  },
  {
   "cell_type": "code",
   "execution_count": 72,
   "metadata": {},
   "outputs": [],
   "source": [
    "df_event_listeners_wiretappers.to_parquet(\"df_event_listeners_wiretappers.parquet\", engine=\"pyarrow\", index=False)"
   ]
  },
  {
   "cell_type": "code",
   "execution_count": 6,
   "metadata": {},
   "outputs": [],
   "source": [
    "df_event_listeners_wiretappers = pd.read_parquet(\"df_event_listeners_wiretappers.parquet\", engine=\"pyarrow\")"
   ]
  },
  {
   "cell_type": "code",
   "execution_count": 75,
   "metadata": {},
   "outputs": [],
   "source": [
    "df_request_exfils.to_parquet(\"df_request_exfils.parquet\", engine=\"pyarrow\", index=False)"
   ]
  },
  {
   "cell_type": "code",
   "execution_count": 10,
   "metadata": {},
   "outputs": [
    {
     "ename": "TypeError",
     "evalue": "data type 'dbtime' not understood",
     "output_type": "error",
     "traceback": [
      "\u001b[0;31m---------------------------------------------------------------------------\u001b[0m",
      "\u001b[0;31mTypeError\u001b[0m                                 Traceback (most recent call last)",
      "Cell \u001b[0;32mIn[10], line 4\u001b[0m\n\u001b[1;32m      1\u001b[0m \u001b[38;5;28;01mimport\u001b[39;00m \u001b[38;5;21;01mpyarrow\u001b[39;00m\u001b[38;5;21;01m.\u001b[39;00m\u001b[38;5;21;01mparquet\u001b[39;00m \u001b[38;5;28;01mas\u001b[39;00m \u001b[38;5;21;01mpq\u001b[39;00m\n\u001b[1;32m      3\u001b[0m table \u001b[38;5;241m=\u001b[39m pq\u001b[38;5;241m.\u001b[39mread_table(\u001b[38;5;124m\"\u001b[39m\u001b[38;5;124mdf_request_exfils.parquet\u001b[39m\u001b[38;5;124m\"\u001b[39m, use_pandas_metadata\u001b[38;5;241m=\u001b[39m\u001b[38;5;28;01mFalse\u001b[39;00m)\n\u001b[0;32m----> 4\u001b[0m df_request_exfils \u001b[38;5;241m=\u001b[39m \u001b[43mtable\u001b[49m\u001b[38;5;241;43m.\u001b[39;49m\u001b[43mto_pandas\u001b[49m\u001b[43m(\u001b[49m\u001b[43m)\u001b[49m\n",
      "File \u001b[0;32m/opt/miniconda3/envs/wiretapping/lib/python3.12/site-packages/pyarrow/array.pxi:885\u001b[0m, in \u001b[0;36mpyarrow.lib._PandasConvertible.to_pandas\u001b[0;34m()\u001b[0m\n",
      "File \u001b[0;32m/opt/miniconda3/envs/wiretapping/lib/python3.12/site-packages/pyarrow/table.pxi:5002\u001b[0m, in \u001b[0;36mpyarrow.lib.Table._to_pandas\u001b[0;34m()\u001b[0m\n",
      "File \u001b[0;32m/opt/miniconda3/envs/wiretapping/lib/python3.12/site-packages/pyarrow/pandas_compat.py:774\u001b[0m, in \u001b[0;36mtable_to_dataframe\u001b[0;34m(options, table, categories, ignore_metadata, types_mapper)\u001b[0m\n\u001b[1;32m    771\u001b[0m     table \u001b[38;5;241m=\u001b[39m _add_any_metadata(table, pandas_metadata)\n\u001b[1;32m    772\u001b[0m     table, index \u001b[38;5;241m=\u001b[39m _reconstruct_index(table, index_descriptors,\n\u001b[1;32m    773\u001b[0m                                       all_columns, types_mapper)\n\u001b[0;32m--> 774\u001b[0m     ext_columns_dtypes \u001b[38;5;241m=\u001b[39m \u001b[43m_get_extension_dtypes\u001b[49m\u001b[43m(\u001b[49m\n\u001b[1;32m    775\u001b[0m \u001b[43m        \u001b[49m\u001b[43mtable\u001b[49m\u001b[43m,\u001b[49m\u001b[43m \u001b[49m\u001b[43mall_columns\u001b[49m\u001b[43m,\u001b[49m\u001b[43m \u001b[49m\u001b[43mtypes_mapper\u001b[49m\u001b[43m)\u001b[49m\n\u001b[1;32m    776\u001b[0m \u001b[38;5;28;01melse\u001b[39;00m:\n\u001b[1;32m    777\u001b[0m     index \u001b[38;5;241m=\u001b[39m _pandas_api\u001b[38;5;241m.\u001b[39mpd\u001b[38;5;241m.\u001b[39mRangeIndex(table\u001b[38;5;241m.\u001b[39mnum_rows)\n",
      "File \u001b[0;32m/opt/miniconda3/envs/wiretapping/lib/python3.12/site-packages/pyarrow/pandas_compat.py:853\u001b[0m, in \u001b[0;36m_get_extension_dtypes\u001b[0;34m(table, columns_metadata, types_mapper)\u001b[0m\n\u001b[1;32m    848\u001b[0m dtype \u001b[38;5;241m=\u001b[39m col_meta[\u001b[38;5;124m'\u001b[39m\u001b[38;5;124mnumpy_type\u001b[39m\u001b[38;5;124m'\u001b[39m]\n\u001b[1;32m    850\u001b[0m \u001b[38;5;28;01mif\u001b[39;00m dtype \u001b[38;5;129;01mnot\u001b[39;00m \u001b[38;5;129;01min\u001b[39;00m _pandas_supported_numpy_types:\n\u001b[1;32m    851\u001b[0m     \u001b[38;5;66;03m# pandas_dtype is expensive, so avoid doing this for types\u001b[39;00m\n\u001b[1;32m    852\u001b[0m     \u001b[38;5;66;03m# that are certainly numpy dtypes\u001b[39;00m\n\u001b[0;32m--> 853\u001b[0m     pandas_dtype \u001b[38;5;241m=\u001b[39m \u001b[43m_pandas_api\u001b[49m\u001b[38;5;241;43m.\u001b[39;49m\u001b[43mpandas_dtype\u001b[49m\u001b[43m(\u001b[49m\u001b[43mdtype\u001b[49m\u001b[43m)\u001b[49m\n\u001b[1;32m    854\u001b[0m     \u001b[38;5;28;01mif\u001b[39;00m \u001b[38;5;28misinstance\u001b[39m(pandas_dtype, _pandas_api\u001b[38;5;241m.\u001b[39mextension_dtype):\n\u001b[1;32m    855\u001b[0m         \u001b[38;5;28;01mif\u001b[39;00m \u001b[38;5;28mhasattr\u001b[39m(pandas_dtype, \u001b[38;5;124m\"\u001b[39m\u001b[38;5;124m__from_arrow__\u001b[39m\u001b[38;5;124m\"\u001b[39m):\n",
      "File \u001b[0;32m/opt/miniconda3/envs/wiretapping/lib/python3.12/site-packages/pyarrow/pandas-shim.pxi:148\u001b[0m, in \u001b[0;36mpyarrow.lib._PandasAPIShim.pandas_dtype\u001b[0;34m()\u001b[0m\n",
      "File \u001b[0;32m/opt/miniconda3/envs/wiretapping/lib/python3.12/site-packages/pyarrow/pandas-shim.pxi:151\u001b[0m, in \u001b[0;36mpyarrow.lib._PandasAPIShim.pandas_dtype\u001b[0;34m()\u001b[0m\n",
      "File \u001b[0;32m/opt/miniconda3/envs/wiretapping/lib/python3.12/site-packages/pandas/core/dtypes/common.py:1645\u001b[0m, in \u001b[0;36mpandas_dtype\u001b[0;34m(dtype)\u001b[0m\n\u001b[1;32m   1640\u001b[0m     \u001b[38;5;28;01mwith\u001b[39;00m warnings\u001b[38;5;241m.\u001b[39mcatch_warnings():\n\u001b[1;32m   1641\u001b[0m         \u001b[38;5;66;03m# GH#51523 - Series.astype(np.integer) doesn't show\u001b[39;00m\n\u001b[1;32m   1642\u001b[0m         \u001b[38;5;66;03m# numpy deprecation warning of np.integer\u001b[39;00m\n\u001b[1;32m   1643\u001b[0m         \u001b[38;5;66;03m# Hence enabling DeprecationWarning\u001b[39;00m\n\u001b[1;32m   1644\u001b[0m         warnings\u001b[38;5;241m.\u001b[39msimplefilter(\u001b[38;5;124m\"\u001b[39m\u001b[38;5;124malways\u001b[39m\u001b[38;5;124m\"\u001b[39m, \u001b[38;5;167;01mDeprecationWarning\u001b[39;00m)\n\u001b[0;32m-> 1645\u001b[0m         npdtype \u001b[38;5;241m=\u001b[39m \u001b[43mnp\u001b[49m\u001b[38;5;241;43m.\u001b[39;49m\u001b[43mdtype\u001b[49m\u001b[43m(\u001b[49m\u001b[43mdtype\u001b[49m\u001b[43m)\u001b[49m\n\u001b[1;32m   1646\u001b[0m \u001b[38;5;28;01mexcept\u001b[39;00m \u001b[38;5;167;01mSyntaxError\u001b[39;00m \u001b[38;5;28;01mas\u001b[39;00m err:\n\u001b[1;32m   1647\u001b[0m     \u001b[38;5;66;03m# np.dtype uses `eval` which can raise SyntaxError\u001b[39;00m\n\u001b[1;32m   1648\u001b[0m     \u001b[38;5;28;01mraise\u001b[39;00m \u001b[38;5;167;01mTypeError\u001b[39;00m(\u001b[38;5;124mf\u001b[39m\u001b[38;5;124m\"\u001b[39m\u001b[38;5;124mdata type \u001b[39m\u001b[38;5;124m'\u001b[39m\u001b[38;5;132;01m{\u001b[39;00mdtype\u001b[38;5;132;01m}\u001b[39;00m\u001b[38;5;124m'\u001b[39m\u001b[38;5;124m not understood\u001b[39m\u001b[38;5;124m\"\u001b[39m) \u001b[38;5;28;01mfrom\u001b[39;00m \u001b[38;5;21;01merr\u001b[39;00m\n",
      "\u001b[0;31mTypeError\u001b[0m: data type 'dbtime' not understood"
     ]
    }
   ],
   "source": [
    "import pyarrow.parquet as pq\n",
    "\n",
    "table = pq.read_table(\"df_request_exfils.parquet\", use_pandas_metadata=False)\n",
    "df_request_exfils = table.to_pandas()"
   ]
  },
  {
   "cell_type": "code",
   "execution_count": 18,
   "metadata": {},
   "outputs": [
    {
     "data": {
      "application/vnd.jupyter.widget-view+json": {
       "model_id": "5342c04f6d284ad5aa198824abcf2a94",
       "version_major": 2,
       "version_minor": 0
      },
      "text/plain": [
       "VBox(children=(HBox(children=(IntProgress(value=0, description='0.00%', max=4105), Label(value='0 / 4105'))), …"
      ]
     },
     "metadata": {},
     "output_type": "display_data"
    },
    {
     "name": "stderr",
     "output_type": "stream",
     "text": [
      "/tmp/ipykernel_628538/3020862868.py:1: SettingWithCopyWarning: \n",
      "A value is trying to be set on a copy of a slice from a DataFrame.\n",
      "Try using .loc[row_indexer,col_indexer] = value instead\n",
      "\n",
      "See the caveats in the documentation: https://pandas.pydata.org/pandas-docs/stable/user_guide/indexing.html#returning-a-view-versus-a-copy\n",
      "  df_request_exfils['fl_label'] = df_request_exfils.parallel_apply(label_request_url, args=(filterlists, filterlist_rules), axis=1)\n"
     ]
    }
   ],
   "source": [
    "df_request_exfils['fl_label'] = df_request_exfils.parallel_apply(label_request_url, args=(filterlists, filterlist_rules), axis=1)"
   ]
  },
  {
   "cell_type": "code",
   "execution_count": 78,
   "metadata": {},
   "outputs": [],
   "source": [
    "df_request_exfils.to_parquet(\"df_request_exfils.parquet\", engine=\"pyarrow\", index=False)"
   ]
  },
  {
   "cell_type": "code",
   "execution_count": 11,
   "metadata": {},
   "outputs": [],
   "source": [
    "import pyarrow as pa\n",
    "import pyarrow.parquet as pq\n",
    "\n",
    "# 1) Read the Parquet file _without_ pulling in pandas metadata\n",
    "table = pq.read_table(\n",
    "    \"df_request_exfils.parquet\",\n",
    "    use_pandas_metadata=False\n",
    ")\n",
    "\n",
    "# 2) (Optional) Strip _all_ schema metadata to be 100% sure\n",
    "table = table.replace_schema_metadata({})\n",
    "\n",
    "# 3) Drop your unwanted 'time' column (if it still exists)\n",
    "if \"time\" in table.schema.names:\n",
    "    idx = table.schema.get_field_index(\"time\")\n",
    "    table = table.remove_column(idx)\n",
    "\n",
    "# 4) Convert to a DataFrame\n",
    "df_request_exfils = table.to_pandas()"
   ]
  },
  {
   "cell_type": "code",
   "execution_count": 19,
   "metadata": {},
   "outputs": [
    {
     "data": {
      "application/vnd.jupyter.widget-view+json": {
       "model_id": "b5d8eb5c0c224717bd36e3f553017b25",
       "version_major": 2,
       "version_minor": 0
      },
      "text/plain": [
       "  0%|          | 0/1121 [00:00<?, ?it/s]"
      ]
     },
     "metadata": {},
     "output_type": "display_data"
    }
   ],
   "source": [
    "df_script_labels = pd.DataFrame()\n",
    "\n",
    "# if a script_domain has event 1 fl_label which is equal to True in the df_request_exfils, that script domain label is true\n",
    "\n",
    "for script_domain in tqdm(df_event_listeners_wiretappers.script_domain.unique()):\n",
    "    df_script_labels = pd.concat(\n",
    "        [\n",
    "            df_script_labels,\n",
    "            pd.DataFrame(\n",
    "                {\n",
    "                    \"script_domain\": [script_domain],\n",
    "                    \"label\": [\n",
    "                        df_request_exfils[\n",
    "                            (df_request_exfils.calling_script_domain == script_domain)\n",
    "                            & (df_request_exfils.fl_label == True)\n",
    "                        ].shape[0] > 0\n",
    "                    ],\n",
    "                }\n",
    "            ),\n",
    "        ]\n",
    "    )"
   ]
  },
  {
   "cell_type": "code",
   "execution_count": 20,
   "metadata": {},
   "outputs": [
    {
     "name": "stdout",
     "output_type": "stream",
     "text": [
      "Average wiretapping event listeners installed per site: 0.9514200815423951\n"
     ]
    }
   ],
   "source": [
    "print(\"Average wiretapping event listeners installed per site:\", df_event_listeners_wiretappers[['site_domain', 'event_type', 'script_domain']].drop_duplicates().shape[0]/n_sites)"
   ]
  },
  {
   "cell_type": "code",
   "execution_count": 21,
   "metadata": {},
   "outputs": [
    {
     "name": "stdout",
     "output_type": "stream",
     "text": [
      "Percentage of sites where at least one wiretapping event listener is installed: 41.57280077396172\n"
     ]
    }
   ],
   "source": [
    "print(\"Percentage of sites where at least one wiretapping event listener is installed:\",df_event_listeners_wiretappers.site_domain.nunique() / n_sites * 100)"
   ]
  },
  {
   "cell_type": "code",
   "execution_count": 22,
   "metadata": {},
   "outputs": [],
   "source": [
    "df_wiretappers = df_event_listeners_wiretappers[\n",
    "    (df_event_listeners_wiretappers.leakage == True)\n",
    "    & (\n",
    "        df_event_listeners_wiretappers.script_entity\n",
    "        == df_event_listeners_wiretappers.request_entity\n",
    "    )\n",
    "]"
   ]
  },
  {
   "cell_type": "code",
   "execution_count": 23,
   "metadata": {},
   "outputs": [
    {
     "name": "stdout",
     "output_type": "stream",
     "text": [
      "Percentage of sites where wiretapping is identified: site_domain    3.178771\n",
      "dtype: float64\n"
     ]
    }
   ],
   "source": [
    "print(\n",
    "    \"Percentage of sites where wiretapping is identified:\",\n",
    "    df_wiretappers[[\"site_domain\"]].nunique() / n_sites * 100,\n",
    ")"
   ]
  },
  {
   "cell_type": "code",
   "execution_count": 24,
   "metadata": {},
   "outputs": [
    {
     "name": "stdout",
     "output_type": "stream",
     "text": [
      "Average number of wiretappers per site: site_domain    1.030435\n",
      "dtype: float64\n"
     ]
    }
   ],
   "source": [
    "print(\"Average number of wiretappers per site:\", df_wiretappers[[\"site_domain\", \"script_entity\"]].drop_duplicates().shape[\n",
    "    0\n",
    "] / df_wiretappers[\n",
    "    [\"site_domain\"]\n",
    "].nunique())"
   ]
  },
  {
   "cell_type": "code",
   "execution_count": 25,
   "metadata": {},
   "outputs": [],
   "source": [
    "# add script labels\n",
    "df_wiretappers = df_wiretappers.merge(\n",
    "    df_script_labels, how=\"left\", left_on=\"script_domain\", right_on=\"script_domain\"\n",
    ")"
   ]
  },
  {
   "cell_type": "code",
   "execution_count": 26,
   "metadata": {},
   "outputs": [
    {
     "name": "stdout",
     "output_type": "stream",
     "text": [
      "Percentage of wiretappers who are also known trackers from filter lists:  84.59915611814345\n"
     ]
    }
   ],
   "source": [
    "print(\"Percentage of wiretappers who are also known trackers from filter lists: \",df_wiretappers[(df_wiretappers.label == True)\n",
    "][[\"site_domain\", \"script_entity\"]].drop_duplicates().shape[\n",
    "    0\n",
    "] / df_wiretappers[\n",
    "    [\"site_domain\", \"script_entity\"]\n",
    "].drop_duplicates().shape[\n",
    "    0\n",
    "] * 100)"
   ]
  },
  {
   "cell_type": "code",
   "execution_count": 27,
   "metadata": {},
   "outputs": [],
   "source": [
    "df_temp = (\n",
    "    df_wiretappers[[\"site_domain\", \"event_type\"]]\n",
    "    .drop_duplicates()\n",
    "    .event_type.value_counts()\n",
    "    .reset_index()[:20]\n",
    ")\n",
    "\n",
    "df_temp['total_count'] = df_event_listeners_wiretappers[\n",
    "    [\"site_domain\", \"event_type\"]\n",
    "].drop_duplicates().event_type.value_counts().reset_index()[:20]['count']\n",
    "\n",
    "df_temp[\"count_percentage\"] = df_temp[\"count\"] / n_sites * 100\n",
    "\n",
    "df_temp['total_count_percentage'] = df_temp['total_count'] / n_sites * 100\n",
    "\n",
    "df_temp[[\"event_type\", \"total_count_percentage\", \"count_percentage\"]].to_latex(\n",
    "    \"event_types_wiretapping.tex\", column_format=\"lr\", float_format=\"%.2f\", index=False\n",
    ")"
   ]
  },
  {
   "cell_type": "code",
   "execution_count": 28,
   "metadata": {},
   "outputs": [],
   "source": [
    "import ast\n",
    "\n",
    "\n",
    "def get_exfiltration_types(script_domain):\n",
    "    # 1) Filter down to only the rows you care about\n",
    "    df_filtered = df_requests[\n",
    "        (df_requests.calling_script_domain.str.contains(script_domain, na=False))\n",
    "        & (df_requests.data_leak == True)\n",
    "    ].copy()\n",
    "\n",
    "    # 2) If data_leak_type is coming in as a string like \"['mail','tel']\",\n",
    "    #    turn it into an actual Python list:\n",
    "    df_filtered[\"data_leak_type\"] = df_filtered[\"data_leak_type\"].apply(\n",
    "        lambda x: ast.literal_eval(x) if isinstance(x, str) else x\n",
    "    )\n",
    "\n",
    "    # 3) Now explode out the list to one row per single leak-type\n",
    "    df_exploded = df_filtered.explode(\"data_leak_type\")\n",
    "\n",
    "    # 4) Drop any null entries (in case some rows had empty lists or None)\n",
    "    df_exploded = df_exploded[df_exploded.data_leak_type.notnull()]\n",
    "\n",
    "    replacements = {\n",
    "        \"form_text\": \"Form Text\",\n",
    "        \"form_text2\": \"Form Text\",\n",
    "        \"mail\": \"Mail\",\n",
    "        \"tel\": \"Phone Number\",\n",
    "        \"address\": \"Address\",\n",
    "        \"url_1\": \"URL\",\n",
    "        \"password\": \"Password\",\n",
    "    }\n",
    "\n",
    "    df_exploded[\"data_leak_type\"] = df_exploded[\n",
    "        \"data_leak_type\"\n",
    "    ].replace(replacements)\n",
    "\n",
    "    # 5) If you want the *number of distinct sites* per leak-type:\n",
    "    result = (\n",
    "        df_exploded.drop_duplicates([\"site_domain\", \"data_leak_type\"])\n",
    "        .groupby(\"data_leak_type\")[\"site_domain\"]\n",
    "        .nunique()\n",
    "        .reset_index(name=\"site_count\")\n",
    "    )\n",
    "\n",
    "    # replacements = {\n",
    "    #     \"type_in_body\": \"Body Text\",\n",
    "    #     \"fill_form_url\": \"Keyboard Interactions\",\n",
    "    #     \"fill_form_password\": \"Keyboard Interactions\",\n",
    "    #     \"fill_form_search\": \"Keyboard Interactions\",\n",
    "    #     \"fill_form_email\": \"Keyboard Interactions\",\n",
    "    #     \"fill_form_tel\": \"Keyboard Interactions\",\n",
    "    #     \"fill_form_number\": \"Keyboard Interactions\",\n",
    "    #     \"fill_form_date\": \"Keyboard Interactions\",\n",
    "    #     \"fill_form_text\": \"Keyboard Interactions\",\n",
    "    #     \"fill_form_image\": \"Keyboard Interactions\",\n",
    "    #     \"fill_form_range\": \"Keyboard Interactions\",\n",
    "    #     \"fill_textarea\": \"Keyboard Interactions\",\n",
    "    #     \"pageup_pagedown_tabs\": \"Keyboard Interactions\",\n",
    "    # }\n",
    "\n",
    "    # replace\n",
    "\n",
    "    return \", \".join(result.data_leak_type.unique().tolist())"
   ]
  },
  {
   "cell_type": "code",
   "execution_count": 29,
   "metadata": {},
   "outputs": [
    {
     "data": {
      "application/vnd.jupyter.widget-view+json": {
       "model_id": "87a2cbeb663d476082f0df7b6453dd8c",
       "version_major": 2,
       "version_minor": 0
      },
      "text/plain": [
       "  0%|          | 0/50 [00:00<?, ?it/s]"
      ]
     },
     "metadata": {},
     "output_type": "display_data"
    },
    {
     "data": {
      "application/vnd.jupyter.widget-view+json": {
       "model_id": "87d117d9cbc14253aee3d46771cc0181",
       "version_major": 2,
       "version_minor": 0
      },
      "text/plain": [
       "  0%|          | 0/50 [00:00<?, ?it/s]"
      ]
     },
     "metadata": {},
     "output_type": "display_data"
    },
    {
     "data": {
      "application/vnd.jupyter.widget-view+json": {
       "model_id": "f6fbe078eae642a3857abd5e9d51a5c3",
       "version_major": 2,
       "version_minor": 0
      },
      "text/plain": [
       "  0%|          | 0/50 [00:00<?, ?it/s]"
      ]
     },
     "metadata": {},
     "output_type": "display_data"
    },
    {
     "data": {
      "application/vnd.jupyter.widget-view+json": {
       "model_id": "aaec6953041e45b097ff64792e3d108d",
       "version_major": 2,
       "version_minor": 0
      },
      "text/plain": [
       "  0%|          | 0/50 [00:00<?, ?it/s]"
      ]
     },
     "metadata": {},
     "output_type": "display_data"
    },
    {
     "data": {
      "application/vnd.jupyter.widget-view+json": {
       "model_id": "33e72f7689044c298efe3f8af91239e9",
       "version_major": 2,
       "version_minor": 0
      },
      "text/plain": [
       "  0%|          | 0/50 [00:00<?, ?it/s]"
      ]
     },
     "metadata": {},
     "output_type": "display_data"
    }
   ],
   "source": [
    "def get_most_used_events(script_domain):\n",
    "    return (\n",
    "        df_event_listeners_wiretappers[\n",
    "            df_event_listeners_wiretappers.script_domain == script_domain\n",
    "        ]\n",
    "        .event_type.value_counts()\n",
    "        .index.tolist()\n",
    "    )\n",
    "\n",
    "\n",
    "def get_most_used_scripts(script_domain):\n",
    "    return (\n",
    "        df_event_listeners_wiretappers[\n",
    "            (df_event_listeners_wiretappers.script_domain == script_domain)\n",
    "        ]\n",
    "        .filename.value_counts()\n",
    "        .head(3)\n",
    "        .index.tolist()\n",
    "    )\n",
    "\n",
    "\n",
    "def get_event_usage(script_domain):\n",
    "    return (\n",
    "        df_event_listeners_wiretappers[\n",
    "            (df_event_listeners_wiretappers.script_domain == script_domain)\n",
    "        ].site_domain.nunique()\n",
    "        / n_sites\n",
    "        * 100\n",
    "    )\n",
    "\n",
    "def get_wiretapping_percentage(script_domain):\n",
    "  return df_wiretappers[(df_wiretappers.script_domain == script_domain)].site_domain.nunique()/n_sites*100\n",
    "\n",
    "\n",
    "df_event_listeners_stats = df_event_listeners_wiretappers[[\"site_domain\", \"script_domain\", \"event_type\"]]\n",
    "\n",
    "df_script_stats = (\n",
    "    df_event_listeners_stats[[\"script_domain\", \"site_domain\"]]\n",
    "    .drop_duplicates()\n",
    "    .groupby(\"script_domain\")\n",
    "    .size()\n",
    "    .reset_index(name=\"count\")\n",
    ")\n",
    "\n",
    "df_top_scripts = (\n",
    "    df_script_stats.sort_values(by=\"count\", ascending=False)\n",
    "    .script_domain.head(40)\n",
    "    .tolist()\n",
    ")\n",
    "\n",
    "df_script_info = (\n",
    "    df_script_stats.sort_values(by=\"count\", ascending=False)\n",
    "    .head(50)\n",
    "    .reset_index(drop=True)\n",
    "    .rename(columns={\"script_domain\": \"Script Domain\", \"count\": \"Number of Sites\"})\n",
    ")\n",
    "\n",
    "df_script_info[\"event_types\"] = df_script_info[\"Script Domain\"].progress_apply(\n",
    "    lambda x: \", \".join(get_most_used_events(x))\n",
    ")\n",
    "\n",
    "df_script_info[\"scripts_used\"] = df_script_info[\"Script Domain\"].progress_apply(\n",
    "    lambda x: \", \".join(get_most_used_scripts(x))\n",
    ")\n",
    "\n",
    "df_script_info[\"wiretapping_percentage\"] = df_script_info[\n",
    "    \"Script Domain\"\n",
    "].progress_apply(get_wiretapping_percentage)\n",
    "\n",
    "df_script_info[\"Prevelance on Sites\"] = df_script_info[\"Script Domain\"].progress_apply(\n",
    "    get_event_usage\n",
    ")\n",
    "\n",
    "df_script_info[\"Percentage of Sites\"] = df_script_info[\"Number of Sites\"] / 14471 * 100\n",
    "\n",
    "# round to 2 decimal places\n",
    "df_script_info[\"Percentage of Sites\"] = df_script_info[\"Percentage of Sites\"].round(3)\n",
    "\n",
    "# round all the percentages to 2 decimal places\n",
    "df_script_info[\"wiretapping_percentage\"] = df_script_info[\n",
    "    \"wiretapping_percentage\"\n",
    "].round(3)\n",
    "\n",
    "# add script labels\n",
    "df_script_info = df_script_info.merge(\n",
    "    df_script_labels, how=\"left\", left_on=\"Script Domain\", right_on=\"script_domain\"\n",
    ")\n",
    "\n",
    "df_script_info.rename({'label': 'known_tracker'}, axis=1, inplace=True)\n",
    "\n",
    "df_script_info[\"is_wiretapping\"] = df_script_info[\"wiretapping_percentage\"] > 0\n",
    "\n",
    "df_script_info[\"Data Shared\"] = df_script_info[\"Script Domain\"].progress_apply(\n",
    "    get_exfiltration_types\n",
    ")\n",
    "\n",
    "df_script_info[\n",
    "    [\n",
    "        \"Script Domain\",\n",
    "        \"Prevelance on Sites\",\n",
    "        \"wiretapping_percentage\",\n",
    "        \"known_tracker\",\n",
    "        \"is_wiretapping\",\n",
    "        \"event_types\",\n",
    "        \"Data Shared\",\n",
    "        \"scripts_used\",\n",
    "    ]\n",
    "].sort_values('Prevelance on Sites', ascending=False).to_latex(\n",
    "    \"wiretappers_complete.tex\",\n",
    "    index=False,\n",
    "    column_format=\"lrrlll\",\n",
    "    escape=True,\n",
    "    float_format=\"%.2f\",\n",
    ")"
   ]
  },
  {
   "cell_type": "code",
   "execution_count": 31,
   "metadata": {},
   "outputs": [],
   "source": [
    "import ast\n",
    "\n",
    "\n",
    "def get_exfiltration_types_site_domain(script_domain, site_domain):\n",
    "    # 1) Filter down to only the rows you care about\n",
    "    df_filtered = df_requests[\n",
    "        (df_requests.calling_script_domain.str.contains(script_domain, na=False))\n",
    "        & (df_requests.data_leak == True)\n",
    "        & (df_requests.site_domain == site_domain)\n",
    "    ].copy()\n",
    "\n",
    "    # 2) If data_leak_type is coming in as a string like \"['mail','tel']\",\n",
    "    #    turn it into an actual Python list:\n",
    "    df_filtered[\"data_leak_type\"] = df_filtered[\"data_leak_type\"].apply(\n",
    "        lambda x: ast.literal_eval(x) if isinstance(x, str) else x\n",
    "    )\n",
    "\n",
    "    # 3) Now explode out the list to one row per single leak-type\n",
    "    df_exploded = df_filtered.explode(\"data_leak_type\")\n",
    "\n",
    "    # 4) Drop any null entries (in case some rows had empty lists or None)\n",
    "    df_exploded = df_exploded[df_exploded.data_leak_type.notnull()]\n",
    "\n",
    "    replacements = {\n",
    "        \"form_text\": \"Form Text\",\n",
    "        \"form_text2\": \"Form Text\",\n",
    "        \"mail\": \"Mail\",\n",
    "        \"tel\": \"Phone Number\",\n",
    "        \"address\": \"Address\",\n",
    "        \"url_1\": \"URL\",\n",
    "        \"password\": \"Password\",\n",
    "    }\n",
    "\n",
    "    df_exploded[\"data_leak_type\"] = df_exploded[\n",
    "        \"data_leak_type\"\n",
    "    ].replace(replacements)\n",
    "\n",
    "    # 5) If you want the *number of distinct sites* per leak-type:\n",
    "    result = (\n",
    "        df_exploded.drop_duplicates([\"site_domain\", \"data_leak_type\"])\n",
    "        .groupby(\"data_leak_type\")[\"site_domain\"]\n",
    "        .nunique()\n",
    "        .reset_index(name=\"site_count\")\n",
    "    )\n",
    "\n",
    "    # replacements = {\n",
    "    #     \"type_in_body\": \"Body Text\",\n",
    "    #     \"fill_form_url\": \"Keyboard Interactions\",\n",
    "    #     \"fill_form_password\": \"Keyboard Interactions\",\n",
    "    #     \"fill_form_search\": \"Keyboard Interactions\",\n",
    "    #     \"fill_form_email\": \"Keyboard Interactions\",\n",
    "    #     \"fill_form_tel\": \"Keyboard Interactions\",\n",
    "    #     \"fill_form_number\": \"Keyboard Interactions\",\n",
    "    #     \"fill_form_date\": \"Keyboard Interactions\",\n",
    "    #     \"fill_form_text\": \"Keyboard Interactions\",\n",
    "    #     \"fill_form_image\": \"Keyboard Interactions\",\n",
    "    #     \"fill_form_range\": \"Keyboard Interactions\",\n",
    "    #     \"fill_textarea\": \"Keyboard Interactions\",\n",
    "    #     \"pageup_pagedown_tabs\": \"Keyboard Interactions\",\n",
    "    # }\n",
    "\n",
    "    # replace\n",
    "\n",
    "    return result.data_leak_type.unique().tolist()"
   ]
  },
  {
   "cell_type": "code",
   "execution_count": 33,
   "metadata": {},
   "outputs": [
    {
     "name": "stderr",
     "output_type": "stream",
     "text": [
      "100%|██████████| 131343/131343 [00:00<00:00, 174076.68it/s]\n"
     ]
    }
   ],
   "source": [
    "import ast\n",
    "import re\n",
    "import pandas as pd\n",
    "from tqdm import tqdm\n",
    "tqdm.pandas()\n",
    "\n",
    "# --- 1) Precompute a tidy, exploded table once ---\n",
    "req = df_requests.loc[df_requests[\"data_leak\"] == True, [\n",
    "    \"site_domain\", \"calling_script_domain\", \"data_leak_type\"\n",
    "]].copy()\n",
    "\n",
    "# parse list-like strings once\n",
    "mask_str = req[\"data_leak_type\"].apply(lambda x: isinstance(x, str))\n",
    "req.loc[mask_str, \"data_leak_type\"] = req.loc[mask_str, \"data_leak_type\"].progress_apply(ast.literal_eval)\n",
    "\n",
    "# explode once\n",
    "req = req.explode(\"data_leak_type\")\n",
    "req = req[req[\"data_leak_type\"].notnull()]\n",
    "\n",
    "# normalize labels once\n",
    "replacements = {\n",
    "    \"form_text\": \"Form Text\",\n",
    "    \"form_text2\": \"Form Text\",\n",
    "    \"mail\": \"Mail\",\n",
    "    \"tel\": \"Phone Number\",\n",
    "    \"address\": \"Address\",\n",
    "    \"url_1\": \"URL\",\n",
    "    \"password\": \"Password\",\n",
    "}\n",
    "req[\"data_leak_type\"] = req[\"data_leak_type\"].replace(replacements)\n",
    "\n",
    "# one row per (script, site, type)\n",
    "agg = (\n",
    "    req.drop_duplicates([\"calling_script_domain\", \"site_domain\", \"data_leak_type\"])\n",
    "      .groupby([\"calling_script_domain\", \"site_domain\"])[\"data_leak_type\"]\n",
    "      .apply(lambda s: sorted(s.unique()))\n",
    "      .reset_index(name=\"data_shared\")\n",
    ")\n",
    "\n",
    "# --- 2) Merge onto your target rows (exact match) ---\n",
    "df_out = (\n",
    "    df_event_listeners_wiretappers[[\"site_domain\", \"script_domain\", \"event_type\"]]\n",
    "      .drop_duplicates()\n",
    "      .merge(agg, left_on=[\"script_domain\", \"site_domain\"],\n",
    "                  right_on=[\"calling_script_domain\", \"site_domain\"],\n",
    "             how=\"left\")\n",
    "      .drop(columns=[\"calling_script_domain\"])\n",
    ")\n",
    "\n",
    "# If you want an empty list instead of NaN:\n",
    "df_out[\"data_shared\"] = df_out[\"data_shared\"].apply(lambda x: x if isinstance(x, list) else [])"
   ]
  },
  {
   "cell_type": "code",
   "execution_count": 38,
   "metadata": {},
   "outputs": [],
   "source": [
    "# explode the data_shared column\n",
    "df_out = df_out.explode(\"data_shared\")"
   ]
  },
  {
   "cell_type": "code",
   "execution_count": 48,
   "metadata": {},
   "outputs": [],
   "source": [
    "#drop rows where data_shared is empty\n",
    "df_out = df_out[df_out.data_shared.notna()]\n",
    "\n",
    "# calculate statistic that which script_domain is sharing what type of data on percentage of sites, here we should group by script_domain and data_shared\n",
    "df_stats = df_out[['site_domain', 'data_shared']].drop_duplicates().groupby([\"data_shared\"]).size().reset_index(name=\"count\")\n",
    "df_stats[\"percentage\"] = df_stats[\"count\"] / n_sites * 100"
   ]
  },
  {
   "cell_type": "code",
   "execution_count": 53,
   "metadata": {},
   "outputs": [
    {
     "data": {
      "text/plain": [
       "4.961647432796628"
      ]
     },
     "execution_count": 53,
     "metadata": {},
     "output_type": "execute_result"
    }
   ],
   "source": [
    "df_out.site_domain.nunique()/n_sites * 100"
   ]
  },
  {
   "cell_type": "code",
   "execution_count": 49,
   "metadata": {},
   "outputs": [],
   "source": [
    "df_stats.sort_values(by=[\"percentage\"], inplace=True, ascending=False)"
   ]
  },
  {
   "cell_type": "code",
   "execution_count": 52,
   "metadata": {},
   "outputs": [],
   "source": [
    "df_stats[['data_shared', 'percentage']].to_latex(\"data_shared_stats.tex\", index=False, column_format=\"llr\", float_format=\"%.2f\")"
   ]
  },
  {
   "cell_type": "code",
   "execution_count": 31,
   "metadata": {},
   "outputs": [],
   "source": [
    "import matplotlib.patches as mpatches\n",
    "import matplotlib.pyplot as plt\n",
    "import ast\n",
    "\n",
    "\n",
    "def create_gannt_chart(script_domain, site, event_name, max_seconds=90):\n",
    "    df_keydown = df_event_listeners[\n",
    "        df_event_listeners.script_domain.str.contains(script_domain, na=False)\n",
    "        & (df_event_listeners.event_type.str.contains(event_name, na=False))\n",
    "    ]\n",
    "\n",
    "    df_events = df_keydown[df_keydown.site.str.contains(site, na=False)]\n",
    "\n",
    "    df_script_exfils = df_request_exfils[df_request_exfils.site.str.contains(site)]\n",
    "\n",
    "    df_script_exfils = df_script_exfils[\n",
    "        (\n",
    "            (df_script_exfils.request_domain.str.contains(script_domain))\n",
    "            | (df_script_exfils.calling_script_domain.str.contains(script_domain))\n",
    "        )\n",
    "    ][[\"request_time\", \"data_leak_type\"]]\n",
    "\n",
    "    df_script_exfils['data_leak_type'] = df_script_exfils['data_leak_type'].apply(\n",
    "        lambda x: ast.literal_eval(x) if isinstance(x, str) else x\n",
    "    )\n",
    "\n",
    "    df_script_exfils = df_script_exfils.explode('data_leak_type')\n",
    "\n",
    "    df_script_exfils = df_script_exfils[df_script_exfils.data_leak_type.notnull()]\n",
    "\n",
    "    # df_script_exfils['data_leak_type'] = df_script_exfils['data_leak_type'].apply(lambda x: x['Type'] if x is not None else pd.NA)\n",
    "    # df_script_exfils['matched_sensitive_category'] = df_script_exfils['data_leak_type'].apply(lambda x: x['Category'] if x is not None else pd.NA)\n",
    "\n",
    "    df_script_exfils = df_script_exfils[['request_time', 'data_leak_type']].drop_duplicates()\n",
    "\n",
    "    # print(df_events.measurement.value_counts())\n",
    "\n",
    "    # df_events = df_events[df_events.measurement.str.contains('new')]\n",
    "    df_events = df_events[[\"event_time\", \"init_invoke\"]]\n",
    "\n",
    "    df_site_interactions = df_interactions[df_interactions.site_url.str.contains(site)]\n",
    "\n",
    "    # print(df_site_interactions.measurement.value_counts())\n",
    "\n",
    "    # df_site_interactions = df_site_interactions[df_site_interactions.measurement.str.contains('new')]\n",
    "\n",
    "    df_site_interactions = df_site_interactions[\n",
    "        [\"start_time\", \"end_time\", \"interaction_type\"]\n",
    "    ]\n",
    "\n",
    "    # df_events[\"event_time\"] = pd.to_datetime(df_events[\"event_time\"])\n",
    "    df_events[\"event_time\"] = (\n",
    "        pd.to_datetime(df_events[\"event_time\"], utc=True).dt.tz_localize(None)\n",
    "    )\n",
    "\n",
    "    df_script_exfils = df_script_exfils.rename(columns={'request_time': 'event_time'})\n",
    "\n",
    "    # df_script_exfils[\"event_time\"] = pd.to_datetime(df_script_exfils[\"event_time\"])\n",
    "    df_script_exfils[\"event_time\"] = (\n",
    "        pd.to_datetime(df_script_exfils[\"event_time\"], utc=True)\n",
    "        .dt.tz_localize(None)\n",
    "    )\n",
    "\n",
    "    # df_site_interactions[\"start_time\"] = pd.to_datetime(\n",
    "    #     df_site_interactions[\"start_time\"]\n",
    "    # )\n",
    "    # df_site_interactions[\"end_time\"] = pd.to_datetime(df_site_interactions[\"end_time\"])\n",
    "\n",
    "    df_site_interactions[\"start_time\"] = (\n",
    "        pd.to_datetime(df_site_interactions[\"start_time\"], utc=True)\n",
    "        .dt.tz_localize(None)\n",
    "    )\n",
    "    df_site_interactions[\"end_time\"] = (\n",
    "        pd.to_datetime(df_site_interactions[\"end_time\"], utc=True)\n",
    "        .dt.tz_localize(None)\n",
    "    )\n",
    "\n",
    "    # smallest event time in df_ekon\n",
    "    min_event = df_events.event_time.min()\n",
    "\n",
    "    # smallest event time in df_ekon_interactions\n",
    "    min_interactions = df_site_interactions.start_time.min()\n",
    "\n",
    "    min_event_naive = min_event.tz_localize(None)\n",
    "    min_interactions_naive = min_interactions.tz_localize(None)\n",
    "    print(min_event_naive, min_interactions_naive)\n",
    "    min_timestamp = min(min_event_naive, min_interactions_naive)\n",
    "\n",
    "    df_events[\"event_time\"] = df_events[\"event_time\"] - min_timestamp\n",
    "\n",
    "    df_script_exfils[\"event_time\"] = df_script_exfils[\"event_time\"] - min_timestamp\n",
    "\n",
    "    df_site_interactions[\"start_time\"] = (\n",
    "        df_site_interactions[\"start_time\"].dt.tz_localize(None) - min_timestamp\n",
    "    )\n",
    "    df_site_interactions[\"end_time\"] = (\n",
    "        df_site_interactions[\"end_time\"].dt.tz_localize(None) - min_timestamp\n",
    "    )\n",
    "\n",
    "    # # convert to seconds start_time and end_time\n",
    "    df_site_interactions[\"start_time\"] = df_site_interactions[\n",
    "        \"start_time\"\n",
    "    ].dt.total_seconds()\n",
    "    df_site_interactions[\"end_time\"] = df_site_interactions[\n",
    "        \"end_time\"\n",
    "    ].dt.total_seconds()\n",
    "    df_events[\"event_time\"] = df_events[\"event_time\"].dt.total_seconds()\n",
    "\n",
    "    df_script_exfils[\"event_time\"] = df_script_exfils[\"event_time\"].dt.total_seconds()\n",
    "\n",
    "    # remove the negative values\n",
    "\n",
    "    print(df_script_exfils.head())\n",
    "\n",
    "    df_script_exfils = df_script_exfils[df_script_exfils.event_time > 0]\n",
    "\n",
    "    # min_exfil_seconds = df_script_exfils.event_time.min()\n",
    "\n",
    "    # print(f\"Min exfil seconds: {min_exfil_seconds}\")\n",
    "\n",
    "    max_exfil_seconds = df_script_exfils.event_time.max()\n",
    "    max_interaction_seconds = df_site_interactions.end_time.max()\n",
    "    max_event_seconds = df_events.event_time.max()\n",
    "\n",
    "    # if min_exfil_seconds > max_seconds:\n",
    "    #     max_seconds = min_exfil_seconds * 2\n",
    "    #     print(f\"Max seconds: {max_seconds}\")\n",
    "\n",
    "    max_seconds = min(max_exfil_seconds, max_interaction_seconds, max_event_seconds, max_seconds) + 2\n",
    "\n",
    "    interactions = df_site_interactions.interaction_type.unique().tolist()\n",
    "\n",
    "    # df_script_exfils = df_script_exfils[df_script_exfils.event_time < max_seconds]\n",
    "\n",
    "    print(df_script_exfils.sort_values(by='event_time'))\n",
    "\n",
    "    replacements = {\n",
    "        \"type_in_body\": \"Keyboard Interactions\",\n",
    "        \"fill_form_url\": \"Keyboard Interactions\",\n",
    "        \"fill_form_password\": \"Keyboard Interactions\",\n",
    "        \"fill_form_search\": \"Keyboard Interactions\",\n",
    "        \"fill_form_email\": \"Keyboard Interactions\",\n",
    "        \"fill_form_tel\": \"Keyboard Interactions\",\n",
    "        \"fill_form_number\": \"Keyboard Interactions\",\n",
    "        \"fill_form_date\": \"Keyboard Interactions\",\n",
    "        \"fill_form_text\": \"Keyboard Interactions\",\n",
    "        \"fill_form_image\": \"Keyboard Interactions\",\n",
    "        \"fill_form_range\": \"Keyboard Interactions\",\n",
    "        \"fill_textarea\": \"Keyboard Interactions\",\n",
    "        \"pageup_pagedown_tabs\": \"Keyboard Interactions\",\n",
    "    }\n",
    "\n",
    "    removals = [\"mouse_movement\"]\n",
    "\n",
    "    df_site_interactions = df_site_interactions[\n",
    "        ~df_site_interactions.interaction_type.isin(removals)\n",
    "    ]\n",
    "\n",
    "    df_site_interactions[\"interaction_type\"] = df_site_interactions[\n",
    "        \"interaction_type\"\n",
    "    ].replace(replacements)\n",
    "\n",
    "    df_site_interactions[\"duration\"] = (\n",
    "        df_site_interactions.end_time - df_site_interactions.start_time\n",
    "    )\n",
    "\n",
    "    fig, ax = plt.subplots(figsize=(10, 4))\n",
    "\n",
    "    interaction_colors = {\n",
    "        \"Keyboard Interactions\": \"green\",\n",
    "        # \"Type in Field\": \"blue\",\n",
    "        # \"Navigate using Keys\": \"purple\",\n",
    "    }\n",
    "\n",
    "    # Define rows with y-positions, adding a dedicated row for invocations\n",
    "    interaction_labels = [\n",
    "        \"Keyboard Interactions\",\n",
    "        # \"Type in Field\",\n",
    "        # \"Navigate using Keys\",\n",
    "        \"Invocations\",\n",
    "    ]\n",
    "    y_positions = {label: i for i, label in enumerate(interaction_labels)}\n",
    "\n",
    "    # Plot the timeline bars for \"Type on Webpage\" and \"Type in Field\" rows only\n",
    "    for index, row in df_site_interactions.iterrows():\n",
    "        y_pos = y_positions[row[\"interaction_type\"]]\n",
    "        ax.barh(\n",
    "            y=y_pos,\n",
    "            width=row[\"duration\"],\n",
    "            left=row[\"start_time\"],\n",
    "            color=interaction_colors[row[\"interaction_type\"]],\n",
    "        )\n",
    "\n",
    "    # Set the title and invert the y-axis\n",
    "    # ax.set_title(\n",
    "    #     f\"Timeline of keydown events on {get_domain(site)} for {script_domain} scripts\",\n",
    "    #     fontsize=12,\n",
    "    # )\n",
    "    plt.gca().invert_yaxis()\n",
    "\n",
    "    # Set custom y-ticks for the rows\n",
    "    ax.set_yticks(list(y_positions.values()))\n",
    "    ax.set_yticklabels(interaction_labels, fontsize=12)\n",
    "\n",
    "    # Place invocation lines (red and orange) in the \"Invocations\" row only\n",
    "    for index, row in df_events.iterrows():\n",
    "        color = \"blue\" if row[\"init_invoke\"] == \"init\" else \"orange\"\n",
    "        # Use the y-coordinate of the \"Invocations\" row only\n",
    "        if row[\"init_invoke\"] == \"invoke\":\n",
    "            ax.axvline(\n",
    "                x=row[\"event_time\"], color=color, linestyle=\"solid\", ymin=0, ymax=0.3\n",
    "            )\n",
    "        else:\n",
    "            ax.axvline(\n",
    "                x=row[\"event_time\"], color=color, linestyle=\"dotted\", linewidth=1.5\n",
    "            )\n",
    "\n",
    "    for index, row in df_script_exfils.iterrows():\n",
    "        ax.axvline(x=row[\"event_time\"], color=\"red\", linestyle=\"solid\", linewidth=1.5)\n",
    "\n",
    "    # Limit the x-axis to the first 100 seconds\n",
    "    ax.set_xlim(-0.5, max_seconds)\n",
    "\n",
    "    # Custom legend for timeline bars and invocation lines\n",
    "    interaction_patches = [\n",
    "        mpatches.Patch(color=interaction_colors[k], label=k) for k in interaction_colors\n",
    "    ]\n",
    "    line_patches = [\n",
    "        mpatches.Patch(color=\"blue\", label=\"Listener Initialized\"),\n",
    "        mpatches.Patch(color=\"orange\", label=\"Listener Invoked\"),\n",
    "        mpatches.Patch(color=\"red\", label=\"Shared to Remote Server\"),\n",
    "    ]\n",
    "\n",
    "    # Add the legend and adjust layout\n",
    "    ax.legend(\n",
    "        handles=interaction_patches + line_patches,\n",
    "        fontsize=12,\n",
    "        loc=\"upper left\",\n",
    "        bbox_to_anchor=(1, 1),\n",
    "    )\n",
    "    # Add x-axis label\n",
    "    ax.set_xlabel(\"Time (seconds)\", fontsize=12)\n",
    "\n",
    "    ax.xaxis.grid(True)\n",
    "\n",
    "    plt.tight_layout(rect=[0, 0, 0.85, 1])\n",
    "\n",
    "    # Save the figure as a PDF\n",
    "    plt.savefig(f\"{script_domain}_{get_domain(site)}_{event_name}.pdf\", dpi=300)\n",
    "    # plt.show()"
   ]
  },
  {
   "cell_type": "code",
   "execution_count": 32,
   "metadata": {},
   "outputs": [
    {
     "data": {
      "application/vnd.microsoft.datawrangler.viewer.v0+json": {
       "columns": [
        {
         "name": "site",
         "rawType": "object",
         "type": "string"
        },
        {
         "name": "count",
         "rawType": "int64",
         "type": "integer"
        }
       ],
       "ref": "cccf50ae-85f7-4ad6-b6b2-806185076a4a",
       "rows": [
        [
         "https://docs.samsungknox.com/admin",
         "224"
        ],
        [
         "https://docs.samsungknox.com/admin/index.html",
         "176"
        ],
        [
         "https://phileweb.com",
         "91"
        ],
        [
         "https://aerospaceweb.org/aircraft/",
         "80"
        ],
        [
         "https://docs.samsungknox.com/admin/knox-authentication-manager/welcome.htm",
         "72"
        ],
        [
         "https://aerospaceweb.org/about/",
         "60"
        ],
        [
         "https://aerospaceweb.org/about/copyright.shtml",
         "60"
        ],
        [
         "https://www.openculture.com/2010/11/donald_duck_wants_you_to_pay_your_taxes_1943.html",
         "56"
        ],
        [
         "https://www.openculture.com/2007/08/life-changing_books_your_picks.html",
         "56"
        ],
        [
         "https://www.vbforums.com/announcement.php?f=7&a=107/",
         "56"
        ],
        [
         "https://www.openculture.com/2006/10/foreign_languag.html",
         "56"
        ],
        [
         "https://www.phileweb.com/audio/",
         "52"
        ],
        [
         "https://aerospaceweb.org/about/bios/",
         "50"
        ],
        [
         "https://aerospaceweb.org",
         "50"
        ],
        [
         "https://aerospaceweb.org/about/contact.shtml",
         "50"
        ],
        [
         "https://formula1-data.com/article/bahrain-day3-hadjar-2025",
         "49"
        ],
        [
         "https://formula1-data.com/article/bahrain-day3-lawson-2025",
         "49"
        ],
        [
         "https://formula1-data.com/article/bahrain-gp-ranking-2025",
         "49"
        ],
        [
         "https://docs.samsungknox.com/admin/knox-asset-intelligence/welcome.htm",
         "48"
        ],
        [
         "https://docs.samsungknox.com/admin/knox-capture/welcome.htm",
         "48"
        ],
        [
         "https://formula1-data.com/article/audi-new-start-wheatley-shares-blueprint",
         "42"
        ],
        [
         "https://refdesk.com",
         "40"
        ],
        [
         "https://docs.samsungknox.com/admin/efota-common/welcome.htm",
         "40"
        ],
        [
         "https://formula1-data.com/article",
         "35"
        ],
        [
         "https://formula1-data.com/article/alexander-albon",
         "35"
        ],
        [
         "https://formula1-data.com",
         "35"
        ],
        [
         "https://formula1-data.com/article/broadcast",
         "35"
        ],
        [
         "https://www.openculture.com/2010/04/ernest_hemingway_reads_in_harrys_bar_in_venice.html",
         "32"
        ],
        [
         "https://docs.samsungknox.com/admin/care-plus/welcome.htm",
         "32"
        ],
        [
         "https://docs.samsungknox.com/admin/fundamentals/kbas/index.htm",
         "32"
        ],
        [
         "https://forumodua.com/forumdisplay.php?f=112&s=2ae4d724ddf4db584ebfe1f9e5ac7ee0",
         "28"
        ],
        [
         "https://nijihorosokuvtubermatome.com/archives/39048",
         "28"
        ],
        [
         "https://nijihorosokuvtubermatome.com/archives/38738",
         "28"
        ],
        [
         "https://learn.netdata.cloud/docs/agent/packaging/installer/",
         "28"
        ],
        [
         "https://fp3-siken.com",
         "28"
        ],
        [
         "https://ny.com",
         "28"
        ],
        [
         "https://www.openculture.com/2011/03",
         "28"
        ],
        [
         "https://www.beachconnection.net/0816650_seaside_lodging.htm",
         "28"
        ],
        [
         "https://forumodua.com",
         "28"
        ],
        [
         "https://beachconnection.net/200609_oregoncoastmap_miles.htm",
         "28"
        ]
       ],
       "shape": {
        "columns": 1,
        "rows": 40
       }
      },
      "text/plain": [
       "site\n",
       "https://docs.samsungknox.com/admin                                                         224\n",
       "https://docs.samsungknox.com/admin/index.html                                              176\n",
       "https://phileweb.com                                                                        91\n",
       "https://aerospaceweb.org/aircraft/                                                          80\n",
       "https://docs.samsungknox.com/admin/knox-authentication-manager/welcome.htm                  72\n",
       "https://aerospaceweb.org/about/                                                             60\n",
       "https://aerospaceweb.org/about/copyright.shtml                                              60\n",
       "https://www.openculture.com/2010/11/donald_duck_wants_you_to_pay_your_taxes_1943.html       56\n",
       "https://www.openculture.com/2007/08/life-changing_books_your_picks.html                     56\n",
       "https://www.vbforums.com/announcement.php?f=7&a=107/                                        56\n",
       "https://www.openculture.com/2006/10/foreign_languag.html                                    56\n",
       "https://www.phileweb.com/audio/                                                             52\n",
       "https://aerospaceweb.org/about/bios/                                                        50\n",
       "https://aerospaceweb.org                                                                    50\n",
       "https://aerospaceweb.org/about/contact.shtml                                                50\n",
       "https://formula1-data.com/article/bahrain-day3-hadjar-2025                                  49\n",
       "https://formula1-data.com/article/bahrain-day3-lawson-2025                                  49\n",
       "https://formula1-data.com/article/bahrain-gp-ranking-2025                                   49\n",
       "https://docs.samsungknox.com/admin/knox-asset-intelligence/welcome.htm                      48\n",
       "https://docs.samsungknox.com/admin/knox-capture/welcome.htm                                 48\n",
       "https://formula1-data.com/article/audi-new-start-wheatley-shares-blueprint                  42\n",
       "https://refdesk.com                                                                         40\n",
       "https://docs.samsungknox.com/admin/efota-common/welcome.htm                                 40\n",
       "https://formula1-data.com/article                                                           35\n",
       "https://formula1-data.com/article/alexander-albon                                           35\n",
       "https://formula1-data.com                                                                   35\n",
       "https://formula1-data.com/article/broadcast                                                 35\n",
       "https://www.openculture.com/2010/04/ernest_hemingway_reads_in_harrys_bar_in_venice.html     32\n",
       "https://docs.samsungknox.com/admin/care-plus/welcome.htm                                    32\n",
       "https://docs.samsungknox.com/admin/fundamentals/kbas/index.htm                              32\n",
       "https://forumodua.com/forumdisplay.php?f=112&s=2ae4d724ddf4db584ebfe1f9e5ac7ee0             28\n",
       "https://nijihorosokuvtubermatome.com/archives/39048                                         28\n",
       "https://nijihorosokuvtubermatome.com/archives/38738                                         28\n",
       "https://learn.netdata.cloud/docs/agent/packaging/installer/                                 28\n",
       "https://fp3-siken.com                                                                       28\n",
       "https://ny.com                                                                              28\n",
       "https://www.openculture.com/2011/03                                                         28\n",
       "https://www.beachconnection.net/0816650_seaside_lodging.htm                                 28\n",
       "https://forumodua.com                                                                       28\n",
       "https://beachconnection.net/200609_oregoncoastmap_miles.htm                                 28\n",
       "Name: count, dtype: int64"
      ]
     },
     "execution_count": 32,
     "metadata": {},
     "output_type": "execute_result"
    }
   ],
   "source": [
    "df_wiretappers[\n",
    "    df_wiretappers.script_domain.str.contains(\"google.com\", na=False)\n",
    "].site.value_counts()[\n",
    "    :40\n",
    "]"
   ]
  },
  {
   "cell_type": "code",
   "execution_count": 34,
   "metadata": {},
   "outputs": [
    {
     "name": "stdout",
     "output_type": "stream",
     "text": [
      "2025-05-01 18:04:03.367000 2025-05-01 18:04:16.560000\n",
      "          event_time data_leak_type\n",
      "344282        18.383      form_text\n",
      "5971533       18.067      form_text\n",
      "6545223       18.471      form_text\n",
      "6791340       18.667      form_text\n",
      "16020581      18.559      form_text\n",
      "          event_time data_leak_type\n",
      "5971533       18.067      form_text\n",
      "21317222      18.176      form_text\n",
      "18122000      18.282      form_text\n",
      "344282        18.383      form_text\n",
      "6545223       18.471      form_text\n",
      "16020581      18.559      form_text\n",
      "6791340       18.667      form_text\n"
     ]
    }
   ],
   "source": [
    "create_gannt_chart(\n",
    "    \"google.com\",\n",
    "    \"https://phileweb.com\",\n",
    "    \"keydown\",\n",
    ")"
   ]
  },
  {
   "cell_type": "code",
   "execution_count": null,
   "metadata": {},
   "outputs": [],
   "source": [
    "df_event_listeners_wiretappers.head()"
   ]
  },
  {
   "cell_type": "code",
   "execution_count": 151,
   "metadata": {},
   "outputs": [],
   "source": [
    "df_category = pd.read_csv('category_data.csv')"
   ]
  },
  {
   "cell_type": "code",
   "execution_count": 152,
   "metadata": {},
   "outputs": [
    {
     "data": {
      "text/html": [
       "<div>\n",
       "<style scoped>\n",
       "    .dataframe tbody tr th:only-of-type {\n",
       "        vertical-align: middle;\n",
       "    }\n",
       "\n",
       "    .dataframe tbody tr th {\n",
       "        vertical-align: top;\n",
       "    }\n",
       "\n",
       "    .dataframe thead th {\n",
       "        text-align: right;\n",
       "    }\n",
       "</style>\n",
       "<table border=\"1\" class=\"dataframe\">\n",
       "  <thead>\n",
       "    <tr style=\"text-align: right;\">\n",
       "      <th></th>\n",
       "      <th>site_id</th>\n",
       "      <th>site</th>\n",
       "      <th>url</th>\n",
       "      <th>current_etld</th>\n",
       "      <th>target_etld</th>\n",
       "      <th>Type</th>\n",
       "      <th>Category</th>\n",
       "    </tr>\n",
       "  </thead>\n",
       "  <tbody>\n",
       "    <tr>\n",
       "      <th>0</th>\n",
       "      <td>127613_4</td>\n",
       "      <td>https://dailyinfographic.com/15-coffee-facts</td>\n",
       "      <td>https://api.rlcdn.com/api/identity/v2/envelope...</td>\n",
       "      <td>dailyinfographic.com</td>\n",
       "      <td>rlcdn.com</td>\n",
       "      <td>SHA1</td>\n",
       "      <td>mail</td>\n",
       "    </tr>\n",
       "    <tr>\n",
       "      <th>1</th>\n",
       "      <td>127613_4</td>\n",
       "      <td>https://dailyinfographic.com/15-coffee-facts</td>\n",
       "      <td>https://api.rlcdn.com/api/identity/v2/envelope...</td>\n",
       "      <td>dailyinfographic.com</td>\n",
       "      <td>rlcdn.com</td>\n",
       "      <td>SHA256</td>\n",
       "      <td>mail</td>\n",
       "    </tr>\n",
       "    <tr>\n",
       "      <th>2</th>\n",
       "      <td>162512_4</td>\n",
       "      <td>https://datum-group.ru/contacts/</td>\n",
       "      <td>https://mc.yandex.com/webvisor/23353483?wv-par...</td>\n",
       "      <td>datum-group.ru</td>\n",
       "      <td>yandex.com</td>\n",
       "      <td>Plain</td>\n",
       "      <td>form_text</td>\n",
       "    </tr>\n",
       "    <tr>\n",
       "      <th>3</th>\n",
       "      <td>162512_4</td>\n",
       "      <td>https://datum-group.ru/contacts/</td>\n",
       "      <td>https://mc.yandex.com/webvisor/23353483?wv-par...</td>\n",
       "      <td>datum-group.ru</td>\n",
       "      <td>yandex.com</td>\n",
       "      <td>URLEncode</td>\n",
       "      <td>form_text</td>\n",
       "    </tr>\n",
       "    <tr>\n",
       "      <th>4</th>\n",
       "      <td>298026_6</td>\n",
       "      <td>https://www.loccitane.ru/best-travel-companion/</td>\n",
       "      <td>https://mc.yandex.com/webvisor/10543693?wv-par...</td>\n",
       "      <td>loccitane.ru</td>\n",
       "      <td>yandex.com</td>\n",
       "      <td>Plain</td>\n",
       "      <td>form_text</td>\n",
       "    </tr>\n",
       "    <tr>\n",
       "      <th>...</th>\n",
       "      <td>...</td>\n",
       "      <td>...</td>\n",
       "      <td>...</td>\n",
       "      <td>...</td>\n",
       "      <td>...</td>\n",
       "      <td>...</td>\n",
       "      <td>...</td>\n",
       "    </tr>\n",
       "    <tr>\n",
       "      <th>10161</th>\n",
       "      <td>417594_9</td>\n",
       "      <td>https://ohiochannel.org/collections/conference...</td>\n",
       "      <td>https://www.google-analytics.com/g/collect?v=2...</td>\n",
       "      <td>ohiochannel.org</td>\n",
       "      <td>google-analytics.com</td>\n",
       "      <td>URLEncode</td>\n",
       "      <td>form_text</td>\n",
       "    </tr>\n",
       "    <tr>\n",
       "      <th>10162</th>\n",
       "      <td>801348_4</td>\n",
       "      <td>https://myfittingroom.dk/shop/gavekort-54c1.html</td>\n",
       "      <td>https://api.clerk.io/v3/search/omni?payload=%7...</td>\n",
       "      <td>myfittingroom.dk</td>\n",
       "      <td>clerk.io</td>\n",
       "      <td>Plain</td>\n",
       "      <td>form_text</td>\n",
       "    </tr>\n",
       "    <tr>\n",
       "      <th>10163</th>\n",
       "      <td>801348_4</td>\n",
       "      <td>https://myfittingroom.dk/shop/gavekort-54c1.html</td>\n",
       "      <td>https://api.clerk.io/v3/search/omni?payload=%7...</td>\n",
       "      <td>myfittingroom.dk</td>\n",
       "      <td>clerk.io</td>\n",
       "      <td>URLEncode</td>\n",
       "      <td>form_text</td>\n",
       "    </tr>\n",
       "    <tr>\n",
       "      <th>10164</th>\n",
       "      <td>838563_10</td>\n",
       "      <td>https://www.explorescientific.com/collections/...</td>\n",
       "      <td>https://www.facebook.com/tr/?id=19708551834599...</td>\n",
       "      <td>explorescientific.com</td>\n",
       "      <td>facebook.com</td>\n",
       "      <td>Plain</td>\n",
       "      <td>phone</td>\n",
       "    </tr>\n",
       "    <tr>\n",
       "      <th>10165</th>\n",
       "      <td>838563_10</td>\n",
       "      <td>https://www.explorescientific.com/collections/...</td>\n",
       "      <td>https://www.facebook.com/tr/?id=19708551834599...</td>\n",
       "      <td>explorescientific.com</td>\n",
       "      <td>facebook.com</td>\n",
       "      <td>URLEncode</td>\n",
       "      <td>phone</td>\n",
       "    </tr>\n",
       "  </tbody>\n",
       "</table>\n",
       "<p>10166 rows × 7 columns</p>\n",
       "</div>"
      ],
      "text/plain": [
       "         site_id                                               site  \\\n",
       "0       127613_4       https://dailyinfographic.com/15-coffee-facts   \n",
       "1       127613_4       https://dailyinfographic.com/15-coffee-facts   \n",
       "2       162512_4                   https://datum-group.ru/contacts/   \n",
       "3       162512_4                   https://datum-group.ru/contacts/   \n",
       "4       298026_6    https://www.loccitane.ru/best-travel-companion/   \n",
       "...          ...                                                ...   \n",
       "10161   417594_9  https://ohiochannel.org/collections/conference...   \n",
       "10162   801348_4   https://myfittingroom.dk/shop/gavekort-54c1.html   \n",
       "10163   801348_4   https://myfittingroom.dk/shop/gavekort-54c1.html   \n",
       "10164  838563_10  https://www.explorescientific.com/collections/...   \n",
       "10165  838563_10  https://www.explorescientific.com/collections/...   \n",
       "\n",
       "                                                     url  \\\n",
       "0      https://api.rlcdn.com/api/identity/v2/envelope...   \n",
       "1      https://api.rlcdn.com/api/identity/v2/envelope...   \n",
       "2      https://mc.yandex.com/webvisor/23353483?wv-par...   \n",
       "3      https://mc.yandex.com/webvisor/23353483?wv-par...   \n",
       "4      https://mc.yandex.com/webvisor/10543693?wv-par...   \n",
       "...                                                  ...   \n",
       "10161  https://www.google-analytics.com/g/collect?v=2...   \n",
       "10162  https://api.clerk.io/v3/search/omni?payload=%7...   \n",
       "10163  https://api.clerk.io/v3/search/omni?payload=%7...   \n",
       "10164  https://www.facebook.com/tr/?id=19708551834599...   \n",
       "10165  https://www.facebook.com/tr/?id=19708551834599...   \n",
       "\n",
       "                current_etld           target_etld       Type   Category  \n",
       "0       dailyinfographic.com             rlcdn.com       SHA1       mail  \n",
       "1       dailyinfographic.com             rlcdn.com     SHA256       mail  \n",
       "2             datum-group.ru            yandex.com      Plain  form_text  \n",
       "3             datum-group.ru            yandex.com  URLEncode  form_text  \n",
       "4               loccitane.ru            yandex.com      Plain  form_text  \n",
       "...                      ...                   ...        ...        ...  \n",
       "10161        ohiochannel.org  google-analytics.com  URLEncode  form_text  \n",
       "10162       myfittingroom.dk              clerk.io      Plain  form_text  \n",
       "10163       myfittingroom.dk              clerk.io  URLEncode  form_text  \n",
       "10164  explorescientific.com          facebook.com      Plain      phone  \n",
       "10165  explorescientific.com          facebook.com  URLEncode      phone  \n",
       "\n",
       "[10166 rows x 7 columns]"
      ]
     },
     "execution_count": 152,
     "metadata": {},
     "output_type": "execute_result"
    }
   ],
   "source": [
    "df_category"
   ]
  },
  {
   "cell_type": "code",
   "execution_count": 153,
   "metadata": {},
   "outputs": [
    {
     "data": {
      "text/plain": [
       "(10166, 7)"
      ]
     },
     "execution_count": 153,
     "metadata": {},
     "output_type": "execute_result"
    }
   ],
   "source": [
    "df_category.shape"
   ]
  },
  {
   "cell_type": "code",
   "execution_count": 154,
   "metadata": {},
   "outputs": [],
   "source": [
    "df_category = df_category[[\"current_etld\", \"target_etld\", \"Category\"]].drop_duplicates()"
   ]
  },
  {
   "cell_type": "code",
   "execution_count": 155,
   "metadata": {},
   "outputs": [
    {
     "data": {
      "text/plain": [
       "Category\n",
       "form_text    722\n",
       "mail         291\n",
       "phone         24\n",
       "Name: count, dtype: int64"
      ]
     },
     "execution_count": 155,
     "metadata": {},
     "output_type": "execute_result"
    }
   ],
   "source": [
    "df_category.Category.value_counts()"
   ]
  },
  {
   "cell_type": "code",
   "execution_count": 150,
   "metadata": {},
   "outputs": [
    {
     "data": {
      "text/html": [
       "<div>\n",
       "<style scoped>\n",
       "    .dataframe tbody tr th:only-of-type {\n",
       "        vertical-align: middle;\n",
       "    }\n",
       "\n",
       "    .dataframe tbody tr th {\n",
       "        vertical-align: top;\n",
       "    }\n",
       "\n",
       "    .dataframe thead th {\n",
       "        text-align: right;\n",
       "    }\n",
       "</style>\n",
       "<table border=\"1\" class=\"dataframe\">\n",
       "  <thead>\n",
       "    <tr style=\"text-align: right;\">\n",
       "      <th></th>\n",
       "      <th>site</th>\n",
       "      <th>event_type</th>\n",
       "      <th>event_time</th>\n",
       "      <th>init_invoke</th>\n",
       "      <th>stack</th>\n",
       "      <th>measurement</th>\n",
       "      <th>url</th>\n",
       "      <th>filename</th>\n",
       "      <th>script_domain</th>\n",
       "      <th>site_domain</th>\n",
       "      <th>request_url</th>\n",
       "      <th>stack_json</th>\n",
       "      <th>script_entity</th>\n",
       "      <th>site_entity</th>\n",
       "      <th>calling_script_filename</th>\n",
       "      <th>calling_script_domain</th>\n",
       "      <th>exfiltrator</th>\n",
       "      <th>leakage</th>\n",
       "    </tr>\n",
       "  </thead>\n",
       "  <tbody>\n",
       "    <tr>\n",
       "      <th>313</th>\n",
       "      <td>https://kinotv.ru/movies-collections/apple-tv/</td>\n",
       "      <td>keyup</td>\n",
       "      <td>2024-10-14 05:46:31.487</td>\n",
       "      <td>invoke</td>\n",
       "      <td>Error\\n    at window.addEventListener (&lt;anonym...</td>\n",
       "      <td>old</td>\n",
       "      <td>https://mc.yandex.ru/metrika/tag.js:140:396)</td>\n",
       "      <td>tag.js</td>\n",
       "      <td>yandex.ru</td>\n",
       "      <td>kinotv.ru</td>\n",
       "      <td>NaN</td>\n",
       "      <td>NaN</td>\n",
       "      <td>Yandex LLC</td>\n",
       "      <td>kinotv.ru</td>\n",
       "      <td>tag.js</td>\n",
       "      <td>yandex.ru</td>\n",
       "      <td>True</td>\n",
       "      <td>True</td>\n",
       "    </tr>\n",
       "    <tr>\n",
       "      <th>314</th>\n",
       "      <td>https://peleng.by/service</td>\n",
       "      <td>keyup</td>\n",
       "      <td>2024-10-16 00:40:07.347</td>\n",
       "      <td>invoke</td>\n",
       "      <td>Error\\n    at window.addEventListener (&lt;anonym...</td>\n",
       "      <td>old</td>\n",
       "      <td>https://mc.yandex.ru/metrika/tag.js:140:396)</td>\n",
       "      <td>tag.js</td>\n",
       "      <td>yandex.ru</td>\n",
       "      <td>peleng.by</td>\n",
       "      <td>NaN</td>\n",
       "      <td>NaN</td>\n",
       "      <td>Yandex LLC</td>\n",
       "      <td>peleng.by</td>\n",
       "      <td>tag.js</td>\n",
       "      <td>yandex.ru</td>\n",
       "      <td>True</td>\n",
       "      <td>True</td>\n",
       "    </tr>\n",
       "    <tr>\n",
       "      <th>321</th>\n",
       "      <td>https://ikp-rao.ru/intervju-ikp-live/</td>\n",
       "      <td>keyup</td>\n",
       "      <td>2024-10-15 10:07:19.322</td>\n",
       "      <td>invoke</td>\n",
       "      <td>Error\\n    at window.addEventListener (&lt;anonym...</td>\n",
       "      <td>old</td>\n",
       "      <td>https://mc.yandex.ru/metrika/tag.js:140:396)</td>\n",
       "      <td>tag.js</td>\n",
       "      <td>yandex.ru</td>\n",
       "      <td>ikp-rao.ru</td>\n",
       "      <td>NaN</td>\n",
       "      <td>NaN</td>\n",
       "      <td>Yandex LLC</td>\n",
       "      <td>ikp-rao.ru</td>\n",
       "      <td>tag.js</td>\n",
       "      <td>yandex.ru</td>\n",
       "      <td>True</td>\n",
       "      <td>True</td>\n",
       "    </tr>\n",
       "    <tr>\n",
       "      <th>326</th>\n",
       "      <td>https://omsk.sskindustry.ru/</td>\n",
       "      <td>keyup</td>\n",
       "      <td>2024-10-14 04:53:44.814</td>\n",
       "      <td>invoke</td>\n",
       "      <td>Error\\n    at window.addEventListener (&lt;anonym...</td>\n",
       "      <td>old</td>\n",
       "      <td>https://mc.yandex.ru/metrika/tag.js:140:396)</td>\n",
       "      <td>tag.js</td>\n",
       "      <td>yandex.ru</td>\n",
       "      <td>sskindustry.ru</td>\n",
       "      <td>NaN</td>\n",
       "      <td>NaN</td>\n",
       "      <td>Yandex LLC</td>\n",
       "      <td>sskindustry.ru</td>\n",
       "      <td>tag.js</td>\n",
       "      <td>yandex.ru</td>\n",
       "      <td>True</td>\n",
       "      <td>True</td>\n",
       "    </tr>\n",
       "    <tr>\n",
       "      <th>329</th>\n",
       "      <td>https://nelvamoda.by/collection/zhilety-i-nakidki</td>\n",
       "      <td>keyup</td>\n",
       "      <td>2024-10-15 16:46:51.890</td>\n",
       "      <td>invoke</td>\n",
       "      <td>Error\\n    at window.addEventListener (&lt;anonym...</td>\n",
       "      <td>old</td>\n",
       "      <td>https://mc.yandex.ru/metrika/tag.js:140:396)</td>\n",
       "      <td>tag.js</td>\n",
       "      <td>yandex.ru</td>\n",
       "      <td>nelvamoda.by</td>\n",
       "      <td>NaN</td>\n",
       "      <td>NaN</td>\n",
       "      <td>Yandex LLC</td>\n",
       "      <td>nelvamoda.by</td>\n",
       "      <td>tag.js</td>\n",
       "      <td>yandex.ru</td>\n",
       "      <td>True</td>\n",
       "      <td>True</td>\n",
       "    </tr>\n",
       "  </tbody>\n",
       "</table>\n",
       "</div>"
      ],
      "text/plain": [
       "                                                  site event_type  \\\n",
       "313     https://kinotv.ru/movies-collections/apple-tv/      keyup   \n",
       "314                          https://peleng.by/service      keyup   \n",
       "321              https://ikp-rao.ru/intervju-ikp-live/      keyup   \n",
       "326                       https://omsk.sskindustry.ru/      keyup   \n",
       "329  https://nelvamoda.by/collection/zhilety-i-nakidki      keyup   \n",
       "\n",
       "                  event_time init_invoke  \\\n",
       "313  2024-10-14 05:46:31.487      invoke   \n",
       "314  2024-10-16 00:40:07.347      invoke   \n",
       "321  2024-10-15 10:07:19.322      invoke   \n",
       "326  2024-10-14 04:53:44.814      invoke   \n",
       "329  2024-10-15 16:46:51.890      invoke   \n",
       "\n",
       "                                                 stack measurement  \\\n",
       "313  Error\\n    at window.addEventListener (<anonym...         old   \n",
       "314  Error\\n    at window.addEventListener (<anonym...         old   \n",
       "321  Error\\n    at window.addEventListener (<anonym...         old   \n",
       "326  Error\\n    at window.addEventListener (<anonym...         old   \n",
       "329  Error\\n    at window.addEventListener (<anonym...         old   \n",
       "\n",
       "                                              url filename script_domain  \\\n",
       "313  https://mc.yandex.ru/metrika/tag.js:140:396)   tag.js     yandex.ru   \n",
       "314  https://mc.yandex.ru/metrika/tag.js:140:396)   tag.js     yandex.ru   \n",
       "321  https://mc.yandex.ru/metrika/tag.js:140:396)   tag.js     yandex.ru   \n",
       "326  https://mc.yandex.ru/metrika/tag.js:140:396)   tag.js     yandex.ru   \n",
       "329  https://mc.yandex.ru/metrika/tag.js:140:396)   tag.js     yandex.ru   \n",
       "\n",
       "        site_domain request_url stack_json script_entity     site_entity  \\\n",
       "313       kinotv.ru         NaN        NaN    Yandex LLC       kinotv.ru   \n",
       "314       peleng.by         NaN        NaN    Yandex LLC       peleng.by   \n",
       "321      ikp-rao.ru         NaN        NaN    Yandex LLC      ikp-rao.ru   \n",
       "326  sskindustry.ru         NaN        NaN    Yandex LLC  sskindustry.ru   \n",
       "329    nelvamoda.by         NaN        NaN    Yandex LLC    nelvamoda.by   \n",
       "\n",
       "    calling_script_filename calling_script_domain  exfiltrator  leakage  \n",
       "313                  tag.js             yandex.ru         True     True  \n",
       "314                  tag.js             yandex.ru         True     True  \n",
       "321                  tag.js             yandex.ru         True     True  \n",
       "326                  tag.js             yandex.ru         True     True  \n",
       "329                  tag.js             yandex.ru         True     True  "
      ]
     },
     "execution_count": 150,
     "metadata": {},
     "output_type": "execute_result"
    }
   ],
   "source": [
    "df_event_listeners_wiretappers[df_event_listeners_wiretappers.leakage == True].head()"
   ]
  },
  {
   "cell_type": "code",
   "execution_count": 156,
   "metadata": {},
   "outputs": [],
   "source": [
    "df_requests_exfils = df_requests"
   ]
  },
  {
   "cell_type": "code",
   "execution_count": 157,
   "metadata": {},
   "outputs": [
    {
     "data": {
      "text/plain": [
       "(32544214, 17)"
      ]
     },
     "execution_count": 157,
     "metadata": {},
     "output_type": "execute_result"
    }
   ],
   "source": [
    "df_requests_exfils.shape"
   ]
  },
  {
   "cell_type": "code",
   "execution_count": 158,
   "metadata": {},
   "outputs": [
    {
     "data": {
      "text/html": [
       "<div>\n",
       "<style scoped>\n",
       "    .dataframe tbody tr th:only-of-type {\n",
       "        vertical-align: middle;\n",
       "    }\n",
       "\n",
       "    .dataframe tbody tr th {\n",
       "        vertical-align: top;\n",
       "    }\n",
       "\n",
       "    .dataframe thead th {\n",
       "        text-align: right;\n",
       "    }\n",
       "</style>\n",
       "<table border=\"1\" class=\"dataframe\">\n",
       "  <thead>\n",
       "    <tr style=\"text-align: right;\">\n",
       "      <th></th>\n",
       "      <th>site</th>\n",
       "      <th>url</th>\n",
       "      <th>method</th>\n",
       "      <th>request_time</th>\n",
       "      <th>after_interaction</th>\n",
       "      <th>data_leak</th>\n",
       "      <th>time</th>\n",
       "      <th>matched_sensitive_patterns</th>\n",
       "      <th>measurement</th>\n",
       "      <th>request_call_stack</th>\n",
       "      <th>calling_script</th>\n",
       "      <th>calling_script_filename</th>\n",
       "      <th>site_domain</th>\n",
       "      <th>request_domain</th>\n",
       "      <th>calling_script_domain</th>\n",
       "      <th>request_entity</th>\n",
       "      <th>calling_script_entity</th>\n",
       "    </tr>\n",
       "  </thead>\n",
       "  <tbody>\n",
       "    <tr>\n",
       "      <th>0</th>\n",
       "      <td>https://getresq.com</td>\n",
       "      <td>https://gs-cdn.optimonk.com/jfclientsdk/latest...</td>\n",
       "      <td>GET</td>\n",
       "      <td>2024-10-15 15:41:01.320</td>\n",
       "      <td>&lt;NA&gt;</td>\n",
       "      <td>False</td>\n",
       "      <td>NaT</td>\n",
       "      <td>[]</td>\n",
       "      <td>old</td>\n",
       "      <td>NaN</td>\n",
       "      <td>&lt;NA&gt;</td>\n",
       "      <td>&lt;NA&gt;</td>\n",
       "      <td>getresq.com</td>\n",
       "      <td>optimonk.com</td>\n",
       "      <td>None</td>\n",
       "      <td>WebShop Marketing Kft.</td>\n",
       "      <td>None</td>\n",
       "    </tr>\n",
       "    <tr>\n",
       "      <th>1</th>\n",
       "      <td>https://npsgk.ru/division-railways/</td>\n",
       "      <td>https://npsgk.ru/local/templates/nps/assets/32...</td>\n",
       "      <td>GET</td>\n",
       "      <td>2024-10-16 07:12:11.959</td>\n",
       "      <td>&lt;NA&gt;</td>\n",
       "      <td>False</td>\n",
       "      <td>NaT</td>\n",
       "      <td>[]</td>\n",
       "      <td>old</td>\n",
       "      <td>NaN</td>\n",
       "      <td>&lt;NA&gt;</td>\n",
       "      <td>&lt;NA&gt;</td>\n",
       "      <td>npsgk.ru</td>\n",
       "      <td>npsgk.ru</td>\n",
       "      <td>None</td>\n",
       "      <td>npsgk.ru</td>\n",
       "      <td>None</td>\n",
       "    </tr>\n",
       "    <tr>\n",
       "      <th>2</th>\n",
       "      <td>https://firstdue.com</td>\n",
       "      <td>https://cdn.prod.website-files.com/5e4f0520105...</td>\n",
       "      <td>GET</td>\n",
       "      <td>2024-10-15 18:12:10.036</td>\n",
       "      <td>&lt;NA&gt;</td>\n",
       "      <td>False</td>\n",
       "      <td>NaT</td>\n",
       "      <td>[]</td>\n",
       "      <td>old</td>\n",
       "      <td>NaN</td>\n",
       "      <td>&lt;NA&gt;</td>\n",
       "      <td>&lt;NA&gt;</td>\n",
       "      <td>firstdue.com</td>\n",
       "      <td>website-files.com</td>\n",
       "      <td>None</td>\n",
       "      <td>Webflow, Inc.</td>\n",
       "      <td>None</td>\n",
       "    </tr>\n",
       "    <tr>\n",
       "      <th>3</th>\n",
       "      <td>https://highlandscurrent.org/2024/08/09/mudlar...</td>\n",
       "      <td>https://s.clarity.ms/collect</td>\n",
       "      <td>POST</td>\n",
       "      <td>2024-10-14 09:34:58.260</td>\n",
       "      <td>&lt;NA&gt;</td>\n",
       "      <td>False</td>\n",
       "      <td>NaT</td>\n",
       "      <td>[]</td>\n",
       "      <td>old</td>\n",
       "      <td>NaN</td>\n",
       "      <td>&lt;NA&gt;</td>\n",
       "      <td>&lt;NA&gt;</td>\n",
       "      <td>highlandscurrent.org</td>\n",
       "      <td>clarity.ms</td>\n",
       "      <td>None</td>\n",
       "      <td>Microsoft Corporation</td>\n",
       "      <td>None</td>\n",
       "    </tr>\n",
       "    <tr>\n",
       "      <th>4</th>\n",
       "      <td>https://community-slack.chef.io/</td>\n",
       "      <td>https://www.facebook.com/privacy_sandbox/pixel...</td>\n",
       "      <td>GET</td>\n",
       "      <td>2024-10-16 01:17:27.630</td>\n",
       "      <td>&lt;NA&gt;</td>\n",
       "      <td>False</td>\n",
       "      <td>NaT</td>\n",
       "      <td>[]</td>\n",
       "      <td>old</td>\n",
       "      <td>NaN</td>\n",
       "      <td>&lt;NA&gt;</td>\n",
       "      <td>&lt;NA&gt;</td>\n",
       "      <td>chef.io</td>\n",
       "      <td>facebook.com</td>\n",
       "      <td>None</td>\n",
       "      <td>Facebook, Inc.</td>\n",
       "      <td>None</td>\n",
       "    </tr>\n",
       "    <tr>\n",
       "      <th>...</th>\n",
       "      <td>...</td>\n",
       "      <td>...</td>\n",
       "      <td>...</td>\n",
       "      <td>...</td>\n",
       "      <td>...</td>\n",
       "      <td>...</td>\n",
       "      <td>...</td>\n",
       "      <td>...</td>\n",
       "      <td>...</td>\n",
       "      <td>...</td>\n",
       "      <td>...</td>\n",
       "      <td>...</td>\n",
       "      <td>...</td>\n",
       "      <td>...</td>\n",
       "      <td>...</td>\n",
       "      <td>...</td>\n",
       "      <td>...</td>\n",
       "    </tr>\n",
       "    <tr>\n",
       "      <th>1927200</th>\n",
       "      <td>https://ionwave.net/bid-tabulation-excel-examp...</td>\n",
       "      <td>https://b.6sc.co/v1/beacon/img.gif?token=db473...</td>\n",
       "      <td>GET</td>\n",
       "      <td>2024-11-08 21:09:45.596</td>\n",
       "      <td>&lt;NA&gt;</td>\n",
       "      <td>False</td>\n",
       "      <td>21:09:45.596000</td>\n",
       "      <td>[]</td>\n",
       "      <td>new</td>\n",
       "      <td>{\"type\":\"other\"}</td>\n",
       "      <td>&lt;NA&gt;</td>\n",
       "      <td>&lt;NA&gt;</td>\n",
       "      <td>ionwave.net</td>\n",
       "      <td>6sc.co</td>\n",
       "      <td>None</td>\n",
       "      <td>6 Sense Insights Inc.</td>\n",
       "      <td>None</td>\n",
       "    </tr>\n",
       "    <tr>\n",
       "      <th>1927201</th>\n",
       "      <td>https://blog.enscape3d.com/content-hub/stories...</td>\n",
       "      <td>https://track.hubspot.com/__ptq.gif?k=18&amp;fi=13...</td>\n",
       "      <td>GET</td>\n",
       "      <td>2024-11-08 22:06:58.995</td>\n",
       "      <td>&lt;NA&gt;</td>\n",
       "      <td>False</td>\n",
       "      <td>22:06:58.995000</td>\n",
       "      <td>[]</td>\n",
       "      <td>new</td>\n",
       "      <td>{\"type\":\"other\"}</td>\n",
       "      <td>&lt;NA&gt;</td>\n",
       "      <td>&lt;NA&gt;</td>\n",
       "      <td>enscape3d.com</td>\n",
       "      <td>hubspot.com</td>\n",
       "      <td>None</td>\n",
       "      <td>HubSpot, Inc.</td>\n",
       "      <td>None</td>\n",
       "    </tr>\n",
       "    <tr>\n",
       "      <th>1927202</th>\n",
       "      <td>https://myspace.com/article/2022/2/22/euphoria...</td>\n",
       "      <td>https://a4-videos.myspacecdn.com/videos02/173/...</td>\n",
       "      <td>GET</td>\n",
       "      <td>2024-11-08 21:20:45.888</td>\n",
       "      <td>&lt;NA&gt;</td>\n",
       "      <td>False</td>\n",
       "      <td>21:20:45.888000</td>\n",
       "      <td>[]</td>\n",
       "      <td>new</td>\n",
       "      <td>{\"type\":\"other\"}</td>\n",
       "      <td>&lt;NA&gt;</td>\n",
       "      <td>&lt;NA&gt;</td>\n",
       "      <td>myspace.com</td>\n",
       "      <td>myspacecdn.com</td>\n",
       "      <td>None</td>\n",
       "      <td>MySpace LLC</td>\n",
       "      <td>None</td>\n",
       "    </tr>\n",
       "    <tr>\n",
       "      <th>1927203</th>\n",
       "      <td>https://www.smashingmagazine.com/2020/03/smart...</td>\n",
       "      <td>https://www.smashingmagazine.com/js/AddToCart....</td>\n",
       "      <td>GET</td>\n",
       "      <td>2024-11-08 22:31:00.259</td>\n",
       "      <td>&lt;NA&gt;</td>\n",
       "      <td>False</td>\n",
       "      <td>22:31:00.259000</td>\n",
       "      <td>[]</td>\n",
       "      <td>new</td>\n",
       "      <td>{\"type\":\"script\",\"stack\":{\"callFrames\":[{\"func...</td>\n",
       "      <td>https://www.smashingmagazine.com/js/app.js</td>\n",
       "      <td>app.js</td>\n",
       "      <td>smashingmagazine.com</td>\n",
       "      <td>smashingmagazine.com</td>\n",
       "      <td>smashingmagazine.com</td>\n",
       "      <td>smashingmagazine.com</td>\n",
       "      <td>smashingmagazine.com</td>\n",
       "    </tr>\n",
       "    <tr>\n",
       "      <th>1927204</th>\n",
       "      <td>https://www.wyze.com/</td>\n",
       "      <td>https://www.wyze.com/cart.js</td>\n",
       "      <td>GET</td>\n",
       "      <td>2024-11-09 01:33:54.076</td>\n",
       "      <td>&lt;NA&gt;</td>\n",
       "      <td>False</td>\n",
       "      <td>01:33:54.076000</td>\n",
       "      <td>[]</td>\n",
       "      <td>new</td>\n",
       "      <td>{\"type\":\"script\",\"stack\":{\"callFrames\":[{\"func...</td>\n",
       "      <td>https://www.wyze.com/cdn/shopifycloud/shopify/...</td>\n",
       "      <td>shop_events_listener-61fa9e0a912c675e178777d2b...</td>\n",
       "      <td>wyze.com</td>\n",
       "      <td>wyze.com</td>\n",
       "      <td>wyze.com</td>\n",
       "      <td>wyze.com</td>\n",
       "      <td>wyze.com</td>\n",
       "    </tr>\n",
       "  </tbody>\n",
       "</table>\n",
       "<p>32544214 rows × 17 columns</p>\n",
       "</div>"
      ],
      "text/plain": [
       "                                                      site  \\\n",
       "0                                      https://getresq.com   \n",
       "1                      https://npsgk.ru/division-railways/   \n",
       "2                                     https://firstdue.com   \n",
       "3        https://highlandscurrent.org/2024/08/09/mudlar...   \n",
       "4                         https://community-slack.chef.io/   \n",
       "...                                                    ...   \n",
       "1927200  https://ionwave.net/bid-tabulation-excel-examp...   \n",
       "1927201  https://blog.enscape3d.com/content-hub/stories...   \n",
       "1927202  https://myspace.com/article/2022/2/22/euphoria...   \n",
       "1927203  https://www.smashingmagazine.com/2020/03/smart...   \n",
       "1927204                              https://www.wyze.com/   \n",
       "\n",
       "                                                       url method  \\\n",
       "0        https://gs-cdn.optimonk.com/jfclientsdk/latest...    GET   \n",
       "1        https://npsgk.ru/local/templates/nps/assets/32...    GET   \n",
       "2        https://cdn.prod.website-files.com/5e4f0520105...    GET   \n",
       "3                             https://s.clarity.ms/collect   POST   \n",
       "4        https://www.facebook.com/privacy_sandbox/pixel...    GET   \n",
       "...                                                    ...    ...   \n",
       "1927200  https://b.6sc.co/v1/beacon/img.gif?token=db473...    GET   \n",
       "1927201  https://track.hubspot.com/__ptq.gif?k=18&fi=13...    GET   \n",
       "1927202  https://a4-videos.myspacecdn.com/videos02/173/...    GET   \n",
       "1927203  https://www.smashingmagazine.com/js/AddToCart....    GET   \n",
       "1927204                       https://www.wyze.com/cart.js    GET   \n",
       "\n",
       "                    request_time  after_interaction  data_leak  \\\n",
       "0        2024-10-15 15:41:01.320               <NA>      False   \n",
       "1        2024-10-16 07:12:11.959               <NA>      False   \n",
       "2        2024-10-15 18:12:10.036               <NA>      False   \n",
       "3        2024-10-14 09:34:58.260               <NA>      False   \n",
       "4        2024-10-16 01:17:27.630               <NA>      False   \n",
       "...                          ...                ...        ...   \n",
       "1927200  2024-11-08 21:09:45.596               <NA>      False   \n",
       "1927201  2024-11-08 22:06:58.995               <NA>      False   \n",
       "1927202  2024-11-08 21:20:45.888               <NA>      False   \n",
       "1927203  2024-11-08 22:31:00.259               <NA>      False   \n",
       "1927204  2024-11-09 01:33:54.076               <NA>      False   \n",
       "\n",
       "                    time matched_sensitive_patterns measurement  \\\n",
       "0                    NaT                         []         old   \n",
       "1                    NaT                         []         old   \n",
       "2                    NaT                         []         old   \n",
       "3                    NaT                         []         old   \n",
       "4                    NaT                         []         old   \n",
       "...                  ...                        ...         ...   \n",
       "1927200  21:09:45.596000                         []         new   \n",
       "1927201  22:06:58.995000                         []         new   \n",
       "1927202  21:20:45.888000                         []         new   \n",
       "1927203  22:31:00.259000                         []         new   \n",
       "1927204  01:33:54.076000                         []         new   \n",
       "\n",
       "                                        request_call_stack  \\\n",
       "0                                                      NaN   \n",
       "1                                                      NaN   \n",
       "2                                                      NaN   \n",
       "3                                                      NaN   \n",
       "4                                                      NaN   \n",
       "...                                                    ...   \n",
       "1927200                                   {\"type\":\"other\"}   \n",
       "1927201                                   {\"type\":\"other\"}   \n",
       "1927202                                   {\"type\":\"other\"}   \n",
       "1927203  {\"type\":\"script\",\"stack\":{\"callFrames\":[{\"func...   \n",
       "1927204  {\"type\":\"script\",\"stack\":{\"callFrames\":[{\"func...   \n",
       "\n",
       "                                            calling_script  \\\n",
       "0                                                     <NA>   \n",
       "1                                                     <NA>   \n",
       "2                                                     <NA>   \n",
       "3                                                     <NA>   \n",
       "4                                                     <NA>   \n",
       "...                                                    ...   \n",
       "1927200                                               <NA>   \n",
       "1927201                                               <NA>   \n",
       "1927202                                               <NA>   \n",
       "1927203         https://www.smashingmagazine.com/js/app.js   \n",
       "1927204  https://www.wyze.com/cdn/shopifycloud/shopify/...   \n",
       "\n",
       "                                   calling_script_filename  \\\n",
       "0                                                     <NA>   \n",
       "1                                                     <NA>   \n",
       "2                                                     <NA>   \n",
       "3                                                     <NA>   \n",
       "4                                                     <NA>   \n",
       "...                                                    ...   \n",
       "1927200                                               <NA>   \n",
       "1927201                                               <NA>   \n",
       "1927202                                               <NA>   \n",
       "1927203                                             app.js   \n",
       "1927204  shop_events_listener-61fa9e0a912c675e178777d2b...   \n",
       "\n",
       "                  site_domain        request_domain calling_script_domain  \\\n",
       "0                 getresq.com          optimonk.com                  None   \n",
       "1                    npsgk.ru              npsgk.ru                  None   \n",
       "2                firstdue.com     website-files.com                  None   \n",
       "3        highlandscurrent.org            clarity.ms                  None   \n",
       "4                     chef.io          facebook.com                  None   \n",
       "...                       ...                   ...                   ...   \n",
       "1927200           ionwave.net                6sc.co                  None   \n",
       "1927201         enscape3d.com           hubspot.com                  None   \n",
       "1927202           myspace.com        myspacecdn.com                  None   \n",
       "1927203  smashingmagazine.com  smashingmagazine.com  smashingmagazine.com   \n",
       "1927204              wyze.com              wyze.com              wyze.com   \n",
       "\n",
       "                 request_entity calling_script_entity  \n",
       "0        WebShop Marketing Kft.                  None  \n",
       "1                      npsgk.ru                  None  \n",
       "2                 Webflow, Inc.                  None  \n",
       "3         Microsoft Corporation                  None  \n",
       "4                Facebook, Inc.                  None  \n",
       "...                         ...                   ...  \n",
       "1927200   6 Sense Insights Inc.                  None  \n",
       "1927201           HubSpot, Inc.                  None  \n",
       "1927202             MySpace LLC                  None  \n",
       "1927203    smashingmagazine.com  smashingmagazine.com  \n",
       "1927204                wyze.com              wyze.com  \n",
       "\n",
       "[32544214 rows x 17 columns]"
      ]
     },
     "execution_count": 158,
     "metadata": {},
     "output_type": "execute_result"
    }
   ],
   "source": [
    "df_requests_exfils"
   ]
  },
  {
   "cell_type": "code",
   "execution_count": 159,
   "metadata": {},
   "outputs": [],
   "source": [
    "df_requests_exfils = df_requests_exfils[['site_domain', 'request_domain', 'calling_script_domain', 'calling_script_filename']].drop_duplicates()"
   ]
  },
  {
   "cell_type": "code",
   "execution_count": 160,
   "metadata": {},
   "outputs": [],
   "source": [
    "df_requests_exfils = pd.merge(\n",
    "    df_requests_exfils,\n",
    "    df_category,\n",
    "    how=\"left\",\n",
    "    left_on=[\"site_domain\", \"request_domain\"],\n",
    "    right_on=[\"current_etld\", \"target_etld\"],\n",
    ")"
   ]
  },
  {
   "cell_type": "code",
   "execution_count": 162,
   "metadata": {},
   "outputs": [
    {
     "data": {
      "text/plain": [
       "Category\n",
       "form_text    2299\n",
       "mail          954\n",
       "phone          78\n",
       "Name: count, dtype: int64"
      ]
     },
     "execution_count": 162,
     "metadata": {},
     "output_type": "execute_result"
    }
   ],
   "source": [
    "df_requests_exfils.Category.value_counts()"
   ]
  },
  {
   "cell_type": "code",
   "execution_count": 163,
   "metadata": {},
   "outputs": [],
   "source": [
    "df_events_exfils = df_event_listeners_wiretappers[df_event_listeners_wiretappers.leakage == True][['site_domain', 'script_domain', 'filename']]"
   ]
  },
  {
   "cell_type": "code",
   "execution_count": 164,
   "metadata": {},
   "outputs": [],
   "source": [
    "df_events_exfils.drop_duplicates(inplace=True)"
   ]
  },
  {
   "cell_type": "code",
   "execution_count": 166,
   "metadata": {},
   "outputs": [
    {
     "data": {
      "text/html": [
       "<div>\n",
       "<style scoped>\n",
       "    .dataframe tbody tr th:only-of-type {\n",
       "        vertical-align: middle;\n",
       "    }\n",
       "\n",
       "    .dataframe tbody tr th {\n",
       "        vertical-align: top;\n",
       "    }\n",
       "\n",
       "    .dataframe thead th {\n",
       "        text-align: right;\n",
       "    }\n",
       "</style>\n",
       "<table border=\"1\" class=\"dataframe\">\n",
       "  <thead>\n",
       "    <tr style=\"text-align: right;\">\n",
       "      <th></th>\n",
       "      <th>site_domain</th>\n",
       "      <th>request_domain</th>\n",
       "      <th>calling_script_domain</th>\n",
       "      <th>calling_script_filename</th>\n",
       "      <th>current_etld</th>\n",
       "      <th>target_etld</th>\n",
       "      <th>Category</th>\n",
       "    </tr>\n",
       "  </thead>\n",
       "  <tbody>\n",
       "    <tr>\n",
       "      <th>0</th>\n",
       "      <td>getresq.com</td>\n",
       "      <td>optimonk.com</td>\n",
       "      <td>None</td>\n",
       "      <td>&lt;NA&gt;</td>\n",
       "      <td>NaN</td>\n",
       "      <td>NaN</td>\n",
       "      <td>NaN</td>\n",
       "    </tr>\n",
       "    <tr>\n",
       "      <th>1</th>\n",
       "      <td>npsgk.ru</td>\n",
       "      <td>npsgk.ru</td>\n",
       "      <td>None</td>\n",
       "      <td>&lt;NA&gt;</td>\n",
       "      <td>NaN</td>\n",
       "      <td>NaN</td>\n",
       "      <td>NaN</td>\n",
       "    </tr>\n",
       "    <tr>\n",
       "      <th>2</th>\n",
       "      <td>firstdue.com</td>\n",
       "      <td>website-files.com</td>\n",
       "      <td>None</td>\n",
       "      <td>&lt;NA&gt;</td>\n",
       "      <td>NaN</td>\n",
       "      <td>NaN</td>\n",
       "      <td>NaN</td>\n",
       "    </tr>\n",
       "    <tr>\n",
       "      <th>3</th>\n",
       "      <td>highlandscurrent.org</td>\n",
       "      <td>clarity.ms</td>\n",
       "      <td>None</td>\n",
       "      <td>&lt;NA&gt;</td>\n",
       "      <td>NaN</td>\n",
       "      <td>NaN</td>\n",
       "      <td>NaN</td>\n",
       "    </tr>\n",
       "    <tr>\n",
       "      <th>4</th>\n",
       "      <td>chef.io</td>\n",
       "      <td>facebook.com</td>\n",
       "      <td>None</td>\n",
       "      <td>&lt;NA&gt;</td>\n",
       "      <td>NaN</td>\n",
       "      <td>NaN</td>\n",
       "      <td>NaN</td>\n",
       "    </tr>\n",
       "  </tbody>\n",
       "</table>\n",
       "</div>"
      ],
      "text/plain": [
       "            site_domain     request_domain calling_script_domain  \\\n",
       "0           getresq.com       optimonk.com                  None   \n",
       "1              npsgk.ru           npsgk.ru                  None   \n",
       "2          firstdue.com  website-files.com                  None   \n",
       "3  highlandscurrent.org         clarity.ms                  None   \n",
       "4               chef.io       facebook.com                  None   \n",
       "\n",
       "  calling_script_filename current_etld target_etld Category  \n",
       "0                    <NA>          NaN         NaN      NaN  \n",
       "1                    <NA>          NaN         NaN      NaN  \n",
       "2                    <NA>          NaN         NaN      NaN  \n",
       "3                    <NA>          NaN         NaN      NaN  \n",
       "4                    <NA>          NaN         NaN      NaN  "
      ]
     },
     "execution_count": 166,
     "metadata": {},
     "output_type": "execute_result"
    }
   ],
   "source": [
    "df_requests_exfils.head()"
   ]
  },
  {
   "cell_type": "code",
   "execution_count": 168,
   "metadata": {},
   "outputs": [],
   "source": [
    "df_events_exfils = pd.merge(\n",
    "    df_events_exfils,\n",
    "    df_requests_exfils[['site_domain', 'calling_script_domain', 'Category']].drop_duplicates(),\n",
    "    how=\"left\",\n",
    "    left_on=[\"site_domain\", \"script_domain\"],\n",
    "    right_on=[\"site_domain\", \"calling_script_domain\"],\n",
    ")"
   ]
  },
  {
   "cell_type": "code",
   "execution_count": 136,
   "metadata": {},
   "outputs": [],
   "source": [
    "df_events_exfils['site_domain'] = df_events_exfils.site.apply(get_domain)"
   ]
  },
  {
   "cell_type": "code",
   "execution_count": 169,
   "metadata": {},
   "outputs": [],
   "source": [
    "df_events_exfils = df_events_exfils[['site_domain', 'script_domain', 'Category']].drop_duplicates()"
   ]
  },
  {
   "cell_type": "code",
   "execution_count": 176,
   "metadata": {},
   "outputs": [],
   "source": [
    "df_counts = df_events_exfils.groupby([\"script_domain\", \"Category\"]).size().reset_index(\n",
    "    name=\"counts\"\n",
    ").sort_values(by=\"counts\", ascending=False)"
   ]
  },
  {
   "cell_type": "code",
   "execution_count": 178,
   "metadata": {},
   "outputs": [],
   "source": [
    "df_counts['percentage'] = df_counts['counts'] / 25000 * 100"
   ]
  },
  {
   "cell_type": "code",
   "execution_count": 179,
   "metadata": {},
   "outputs": [],
   "source": [
    "df_counts.replace(\"form_text\", \"Form Text\", inplace=True)\n",
    "df_counts.replace(\"mail\", \"Email\", inplace=True)\n",
    "df_counts.replace(\"phone\", \"Phone Number\", inplace=True)"
   ]
  },
  {
   "cell_type": "code",
   "execution_count": 183,
   "metadata": {},
   "outputs": [],
   "source": [
    "df_counts[:20][['script_domain', 'Category', 'percentage']].to_latex('top_scripts_categories.tex', index=False, column_format='lcr', float_format=\"%.2f\")"
   ]
  }
 ],
 "metadata": {
  "kernelspec": {
   "display_name": "wiretapping",
   "language": "python",
   "name": "python3"
  },
  "language_info": {
   "codemirror_mode": {
    "name": "ipython",
    "version": 3
   },
   "file_extension": ".py",
   "mimetype": "text/x-python",
   "name": "python",
   "nbconvert_exporter": "python",
   "pygments_lexer": "ipython3",
   "version": "3.12.7"
  }
 },
 "nbformat": 4,
 "nbformat_minor": 2
}
